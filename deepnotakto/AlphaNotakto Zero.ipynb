{
 "cells": [
  {
   "cell_type": "code",
   "execution_count": 1,
   "metadata": {
    "collapsed": true
   },
   "outputs": [],
   "source": [
    "import sys\n",
    "sys.path.insert(0, '..')\n",
    "import treesearch as ts\n",
    "import agents.qtree as qtree\n",
    "import numpy as np\n",
    "import util\n",
    "from visual import GameWithConfidences\n",
    "from environment import Env\n",
    "from agents.random_agent import RandomAgent\n",
    "from agents.human import Human\n",
    "import agents.treeactivated as activated\n",
    "\n",
    "%load_ext autoreload\n",
    "%autoreload 2"
   ]
  },
  {
   "cell_type": "code",
   "execution_count": 2,
   "metadata": {},
   "outputs": [],
   "source": [
    "agent = util.load_agent(\"current.npz\", activated.TanhHidden)"
   ]
  },
  {
   "cell_type": "code",
   "execution_count": 4,
   "metadata": {
    "scrolled": true
   },
   "outputs": [],
   "source": [
    "params = {\"learn_rate\": .1, \"rotate\": True, \"train_live\": True, \"rotate_live\": True}\n",
    "agent = activated.TanhHidden([16, 100, 100, 100, 100, 16], play_simulations = 20, params = params, max_queue = 300, act_mode = \"search\")"
   ]
  },
  {
   "cell_type": "code",
   "execution_count": null,
   "metadata": {
    "collapsed": true
   },
   "outputs": [],
   "source": [
    "agent.self_play(1000, 50, train = True, save_every = 2, save_name = \"agents/saves/current_large.npz\")"
   ]
  },
  {
   "cell_type": "code",
   "execution_count": 18,
   "metadata": {},
   "outputs": [
    {
     "ename": "SystemExit",
     "evalue": "",
     "output_type": "error",
     "traceback": [
      "An exception has occurred, use %tb to see the full traceback.\n",
      "\u001b[1;31mSystemExit\u001b[0m\n"
     ]
    },
    {
     "name": "stderr",
     "output_type": "stream",
     "text": [
      "C:\\Users\\abeol\\Anaconda3\\envs\\Deep-Notakto\\lib\\site-packages\\IPython\\core\\interactiveshell.py:2870: UserWarning: To exit: use 'exit', 'quit', or Ctrl-D.\n",
      "  warn(\"To exit: use 'exit', 'quit', or Ctrl-D.\", stacklevel=1)\n"
     ]
    }
   ],
   "source": [
    "e = Env(4)\n",
    "r = RandomAgent(e)\n",
    "h = Human()\n",
    "agent.act_mode = \"search\"\n",
    "agent.play_simulations = 20\n",
    "gui = GameWithConfidences(e, agent, agent, -1, show_confidences = False)"
   ]
  },
  {
   "cell_type": "code",
   "execution_count": 24,
   "metadata": {},
   "outputs": [
    {
     "name": "stdout",
     "output_type": "stream",
     "text": [
      "PLAYER #1\n",
      "1.0\n",
      "[[  1.52855471e-01   6.43253998e-07   1.27920315e-01   1.04979838e-08]\n",
      " [  1.44402906e-10   1.90623160e-02   2.43166126e-02   2.90129520e-09]\n",
      " [  1.14728055e-05   3.71068297e-03   1.88942123e-02   3.28234851e-01]\n",
      " [  2.81776013e-13   6.54530525e-02   2.59540260e-01   5.35258560e-10]]\n"
     ]
    }
   ],
   "source": [
    "x = np.array([\n",
    "    [1, 0, 0, 0],\n",
    "    [0, 1, 0, 0],\n",
    "    [0, 0, 0, 0],\n",
    "    [0, 0, 1, 1]\n",
    "])\n",
    "print(\"PLAYER #{}\".format(np.int32((np.sum(x) % 2) + 1)))\n",
    "print(agent.value(x))\n",
    "print(agent.get_Q(x))"
   ]
  },
  {
   "cell_type": "code",
   "execution_count": null,
   "metadata": {
    "collapsed": true
   },
   "outputs": [],
   "source": []
  }
 ],
 "metadata": {
  "kernelspec": {
   "display_name": "Python 3",
   "language": "python",
   "name": "python3"
  },
  "language_info": {
   "codemirror_mode": {
    "name": "ipython",
    "version": 3
   },
   "file_extension": ".py",
   "mimetype": "text/x-python",
   "name": "python",
   "nbconvert_exporter": "python",
   "pygments_lexer": "ipython3",
   "version": "3.6.1"
  }
 },
 "nbformat": 4,
 "nbformat_minor": 2
}
