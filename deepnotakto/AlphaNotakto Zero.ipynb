{
 "cells": [
  {
   "cell_type": "code",
   "execution_count": 1,
   "metadata": {
    "collapsed": true
   },
   "outputs": [],
   "source": [
    "import sys\n",
    "sys.path.insert(0, '..')\n",
    "import treesearch as ts\n",
    "import agents.qtree as qtree\n",
    "import numpy as np\n",
    "import util\n",
    "from visual import GameWithConfidences\n",
    "from environment import Env\n",
    "from agents.random_agent import RandomAgent\n",
    "from agents.human import Human\n",
    "from agents.treeactivated import ReluAll\n",
    "\n",
    "%load_ext autoreload\n",
    "%autoreload 2"
   ]
  },
  {
   "cell_type": "code",
   "execution_count": null,
   "metadata": {},
   "outputs": [],
   "source": [
    "agent = util.load_agent(\"current.npz\", qtree.QTree)"
   ]
  },
  {
   "cell_type": "code",
   "execution_count": 2,
   "metadata": {
    "collapsed": true,
    "scrolled": true
   },
   "outputs": [],
   "source": [
    "params = {\"learn_rate\": .5, \"rotate\": True, \"train_live\": True, \"rotate_live\": True}\n",
    "agent = ReluAll([16, 40, 40, 16], play_simulations = 20, params = params, max_queue = 300, act_mode = \"search\")"
   ]
  },
  {
   "cell_type": "code",
   "execution_count": null,
   "metadata": {},
   "outputs": [],
   "source": [
    "for i in range(200):\n",
    "    agent.self_play(1, 20)\n",
    "    agent.train()\n",
    "agent.save(\"current.npz\")"
   ]
  },
  {
   "cell_type": "code",
   "execution_count": null,
   "metadata": {},
   "outputs": [],
   "source": [
    "e = Env(4)\n",
    "r = RandomAgent(e)\n",
    "h = Human()\n",
    "agent.act_mode = \"search\"\n",
    "gui = GameWithConfidences(e, h, agent, -1)"
   ]
  },
  {
   "cell_type": "code",
   "execution_count": null,
   "metadata": {},
   "outputs": [],
   "source": [
    "b = np.array([\n",
    "    [0, 0, 0],\n",
    "    [0, 1, 0],\n",
    "    [0, 0, 0],\n",
    "])\n",
    "print(\"PLAYER #{}\".format(np.int32((np.sum(b) % 2) + 1)))\n",
    "print(agent.value(b))\n",
    "print(agent.get_Q(b))"
   ]
  }
 ],
 "metadata": {
  "kernelspec": {
   "display_name": "Python 3",
   "language": "python",
   "name": "python3"
  },
  "language_info": {
   "codemirror_mode": {
    "name": "ipython",
    "version": 3
   },
   "file_extension": ".py",
   "mimetype": "text/x-python",
   "name": "python",
   "nbconvert_exporter": "python",
   "pygments_lexer": "ipython3",
   "version": "3.6.1"
  }
 },
 "nbformat": 4,
 "nbformat_minor": 2
}
