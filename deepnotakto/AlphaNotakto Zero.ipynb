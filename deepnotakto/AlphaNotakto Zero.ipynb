{
 "cells": [
  {
   "cell_type": "code",
   "execution_count": 1,
   "metadata": {
    "collapsed": true
   },
   "outputs": [],
   "source": [
    "import sys\n",
    "sys.path.insert(0, '..')\n",
    "from importlib import reload\n",
    "import treesearch as ts\n",
    "import agents.qtree as qtree\n",
    "import numpy as np\n",
    "import util\n",
    "from visual import GameWithConfidences\n",
    "from environment import Env\n",
    "from agents.random_agent import RandomAgent\n",
    "from agents.human import Human\n",
    "import agents.treeactivated as activated"
   ]
  },
  {
   "cell_type": "code",
   "execution_count": null,
   "metadata": {
    "collapsed": true
   },
   "outputs": [],
   "source": [
    "_ = [reload(i) for i in (ts, qtree)]"
   ]
  },
  {
   "cell_type": "code",
   "execution_count": 16,
   "metadata": {
    "collapsed": true
   },
   "outputs": [],
   "source": [
    "agent = util.load_agent(\"agents/saves/new4_1.npz\", qtree.QTree)"
   ]
  },
  {
   "cell_type": "code",
   "execution_count": 17,
   "metadata": {},
   "outputs": [
    {
     "data": {
      "text/plain": [
       "934"
      ]
     },
     "execution_count": 17,
     "metadata": {},
     "output_type": "execute_result"
    }
   ],
   "source": [
    "agent.iteration"
   ]
  },
  {
   "cell_type": "code",
   "execution_count": 38,
   "metadata": {
    "collapsed": true
   },
   "outputs": [
    {
     "data": {
      "text/plain": [
       "[array([[  140.71925354,    -9.27956867, -2174.05273438, ...,\n",
       "         -1023.81030273,   210.87615967, -1324.91210938],\n",
       "        [  188.77496338,   -12.98879147, -2901.61279297, ...,\n",
       "         -1366.74023438,   281.46289062, -1767.93188477],\n",
       "        [   94.57994843,    -5.46081114, -1448.45214844, ...,\n",
       "          -682.59735107,   141.16854858,  -883.47583008],\n",
       "        ..., \n",
       "        [   94.1153717 ,    -5.36017942, -1450.77331543, ...,\n",
       "          -683.77087402,   140.91949463,  -884.52270508],\n",
       "        [  188.98187256,   -12.80822659, -2905.6875    , ...,\n",
       "         -1368.30603027,   282.25769043, -1771.26220703],\n",
       "        [  140.86932373,    -9.79030704, -2172.11889648, ...,\n",
       "         -1022.69055176,   210.80932617, -1324.44165039]], dtype=float32),\n",
       " array([[ -5.59176826e+00,  -7.44573021e+00,   2.27121639e+01, ...,\n",
       "           3.42443314e+01,   2.60180016e+01,   1.23943348e+01],\n",
       "        [ -6.78503513e-03,   1.26211500e+00,  -2.27728039e-01, ...,\n",
       "          -1.32962322e+00,  -1.34859204e-01,  -9.99461114e-01],\n",
       "        [  7.95040054e+01,   1.26927139e+02,  -3.34463318e+02, ...,\n",
       "          -5.15115906e+02,  -3.92647217e+02,  -1.86919586e+02],\n",
       "        ..., \n",
       "        [  3.74937286e+01,   5.93612976e+01,  -1.57954086e+02, ...,\n",
       "          -2.43289154e+02,  -1.85175583e+02,  -8.83705750e+01],\n",
       "        [ -7.72625494e+00,  -1.21730080e+01,   3.30473518e+01, ...,\n",
       "           5.07422142e+01,   3.86010933e+01,   1.82247849e+01],\n",
       "        [  4.82361717e+01,   7.73602142e+01,  -2.04015991e+02, ...,\n",
       "          -3.14146301e+02,  -2.39195190e+02,  -1.13877945e+02]], dtype=float32),\n",
       " array([[ -4.84362803e-02,  -6.39268637e-01,   4.29797173e-03, ...,\n",
       "          -6.39669800e+00,   3.44148254e+01,   1.45588684e+00],\n",
       "        [  1.87933803e-01,   1.93342173e+00,   1.14186621e+00, ...,\n",
       "           6.66396427e+00,  -2.98773384e+01,   1.72420025e-01],\n",
       "        [ -2.14899957e-01,  -2.99004698e+00,  -2.90812564e+00, ...,\n",
       "          -4.79990005e+00,   2.22124577e+00,  -1.87136006e+00],\n",
       "        ..., \n",
       "        [ -1.49472743e-01,  -4.52131176e+00,  -4.77036381e+00, ...,\n",
       "          -4.17106581e+00,  -1.44384022e+01,  -3.77525043e+00],\n",
       "        [ -2.18271777e-01,  -3.16126513e+00,  -3.08260512e+00, ...,\n",
       "          -8.54477882e-01,  -1.76607304e+01,  -3.38937068e+00],\n",
       "        [ -8.60867947e-02,  -1.19420171e+00,  -1.21435177e+00, ...,\n",
       "          -1.01189613e+00,   3.91335773e+00,  -1.41375768e+00]], dtype=float32)]"
      ]
     },
     "execution_count": 38,
     "metadata": {},
     "output_type": "execute_result"
    }
   ],
   "source": [
    "agent.get_weights()"
   ]
  },
  {
   "cell_type": "code",
   "execution_count": 48,
   "metadata": {
    "collapsed": true
   },
   "outputs": [
    {
     "data": {
      "text/plain": [
       "array([[ nan,  nan,  nan,  nan,  nan,  nan,  nan,  nan,  nan,  nan,  nan,\n",
       "         nan,  nan,  nan,  nan,  nan,  nan]], dtype=float32)"
      ]
     },
     "execution_count": 48,
     "metadata": {},
     "output_type": "execute_result"
    }
   ],
   "source": [
    "agent.y.eval(session = agent.session, feed_dict = {agent.x: [np.identity(4).reshape(-1)]})"
   ]
  },
  {
   "cell_type": "code",
   "execution_count": 47,
   "metadata": {
    "collapsed": true
   },
   "outputs": [
    {
     "ename": "InvalidArgumentError",
     "evalue": "Inf or NaN values : Tensor had NaN values\n\t [[Node: params/FiniteVerify/CheckNumerics = CheckNumerics[T=DT_FLOAT, _class=[\"loc:@params/loss\"], message=\"Inf or NaN values\", _device=\"/job:localhost/replica:0/task:0/device:CPU:0\"](params/loss)]]\n\nCaused by op 'params/FiniteVerify/CheckNumerics', defined at:\n  File \"C:\\Users\\abeol\\Anaconda3\\envs\\Deep-Notakto\\lib\\runpy.py\", line 193, in _run_module_as_main\n    \"__main__\", mod_spec)\n  File \"C:\\Users\\abeol\\Anaconda3\\envs\\Deep-Notakto\\lib\\runpy.py\", line 85, in _run_code\n    exec(code, run_globals)\n  File \"C:\\Users\\abeol\\Anaconda3\\envs\\Deep-Notakto\\lib\\site-packages\\ipykernel_launcher.py\", line 16, in <module>\n    app.launch_new_instance()\n  File \"C:\\Users\\abeol\\Anaconda3\\envs\\Deep-Notakto\\lib\\site-packages\\traitlets\\config\\application.py\", line 658, in launch_instance\n    app.start()\n  File \"C:\\Users\\abeol\\Anaconda3\\envs\\Deep-Notakto\\lib\\site-packages\\ipykernel\\kernelapp.py\", line 477, in start\n    ioloop.IOLoop.instance().start()\n  File \"C:\\Users\\abeol\\Anaconda3\\envs\\Deep-Notakto\\lib\\site-packages\\zmq\\eventloop\\ioloop.py\", line 177, in start\n    super(ZMQIOLoop, self).start()\n  File \"C:\\Users\\abeol\\Anaconda3\\envs\\Deep-Notakto\\lib\\site-packages\\tornado\\ioloop.py\", line 888, in start\n    handler_func(fd_obj, events)\n  File \"C:\\Users\\abeol\\Anaconda3\\envs\\Deep-Notakto\\lib\\site-packages\\tornado\\stack_context.py\", line 277, in null_wrapper\n    return fn(*args, **kwargs)\n  File \"C:\\Users\\abeol\\Anaconda3\\envs\\Deep-Notakto\\lib\\site-packages\\zmq\\eventloop\\zmqstream.py\", line 440, in _handle_events\n    self._handle_recv()\n  File \"C:\\Users\\abeol\\Anaconda3\\envs\\Deep-Notakto\\lib\\site-packages\\zmq\\eventloop\\zmqstream.py\", line 472, in _handle_recv\n    self._run_callback(callback, msg)\n  File \"C:\\Users\\abeol\\Anaconda3\\envs\\Deep-Notakto\\lib\\site-packages\\zmq\\eventloop\\zmqstream.py\", line 414, in _run_callback\n    callback(*args, **kwargs)\n  File \"C:\\Users\\abeol\\Anaconda3\\envs\\Deep-Notakto\\lib\\site-packages\\tornado\\stack_context.py\", line 277, in null_wrapper\n    return fn(*args, **kwargs)\n  File \"C:\\Users\\abeol\\Anaconda3\\envs\\Deep-Notakto\\lib\\site-packages\\ipykernel\\kernelbase.py\", line 283, in dispatcher\n    return self.dispatch_shell(stream, msg)\n  File \"C:\\Users\\abeol\\Anaconda3\\envs\\Deep-Notakto\\lib\\site-packages\\ipykernel\\kernelbase.py\", line 235, in dispatch_shell\n    handler(stream, idents, msg)\n  File \"C:\\Users\\abeol\\Anaconda3\\envs\\Deep-Notakto\\lib\\site-packages\\ipykernel\\kernelbase.py\", line 399, in execute_request\n    user_expressions, allow_stdin)\n  File \"C:\\Users\\abeol\\Anaconda3\\envs\\Deep-Notakto\\lib\\site-packages\\ipykernel\\ipkernel.py\", line 196, in do_execute\n    res = shell.run_cell(code, store_history=store_history, silent=silent)\n  File \"C:\\Users\\abeol\\Anaconda3\\envs\\Deep-Notakto\\lib\\site-packages\\ipykernel\\zmqshell.py\", line 533, in run_cell\n    return super(ZMQInteractiveShell, self).run_cell(*args, **kwargs)\n  File \"C:\\Users\\abeol\\Anaconda3\\envs\\Deep-Notakto\\lib\\site-packages\\IPython\\core\\interactiveshell.py\", line 2698, in run_cell\n    interactivity=interactivity, compiler=compiler, result=result)\n  File \"C:\\Users\\abeol\\Anaconda3\\envs\\Deep-Notakto\\lib\\site-packages\\IPython\\core\\interactiveshell.py\", line 2802, in run_ast_nodes\n    if self.run_code(code, result):\n  File \"C:\\Users\\abeol\\Anaconda3\\envs\\Deep-Notakto\\lib\\site-packages\\IPython\\core\\interactiveshell.py\", line 2862, in run_code\n    exec(code_obj, self.user_global_ns, self.user_ns)\n  File \"<ipython-input-16-dcc950ae6a05>\", line 1, in <module>\n    agent = util.load_agent(\"agents/saves/new4_1.npz\", qtree.QTree)\n  File \"C:\\Users\\abeol\\Git\\Deep-Notakto\\deepnotakto\\util.py\", line 135, in load_agent\n    return CLASS(**loaded)\n  File \"C:\\Users\\abeol\\Git\\Deep-Notakto\\deepnotakto\\agents\\qtree.py\", line 35, in __init__\n    iterations, params, max_queue, None, None, **kwargs)\n  File \"..\\deepnotakto\\agents\\Q.py\", line 83, in __init__\n    self.initialize(params = params, iterations = iterations, **kwargs)\n  File \"C:\\Users\\abeol\\Git\\Deep-Notakto\\deepnotakto\\agents\\qtree.py\", line 72, in initialize\n    self._init_training_vars()\n  File \"C:\\Users\\abeol\\Git\\Deep-Notakto\\deepnotakto\\agents\\qtree.py\", line 97, in _init_training_vars\n    self.loss = self._get_loss_function()\n  File \"C:\\Users\\abeol\\Git\\Deep-Notakto\\deepnotakto\\agents\\qtree.py\", line 128, in _get_loss_function\n    msg = \"Inf or NaN values\")\n  File \"C:\\Users\\abeol\\Anaconda3\\envs\\Deep-Notakto\\lib\\site-packages\\tensorflow\\python\\ops\\numerics.py\", line 42, in verify_tensor_all_finite\n    verify_input = array_ops.check_numerics(t, message=msg)\n  File \"C:\\Users\\abeol\\Anaconda3\\envs\\Deep-Notakto\\lib\\site-packages\\tensorflow\\python\\ops\\gen_array_ops.py\", line 568, in check_numerics\n    \"CheckNumerics\", tensor=tensor, message=message, name=name)\n  File \"C:\\Users\\abeol\\Anaconda3\\envs\\Deep-Notakto\\lib\\site-packages\\tensorflow\\python\\framework\\op_def_library.py\", line 787, in _apply_op_helper\n    op_def=op_def)\n  File \"C:\\Users\\abeol\\Anaconda3\\envs\\Deep-Notakto\\lib\\site-packages\\tensorflow\\python\\framework\\ops.py\", line 2956, in create_op\n    op_def=op_def)\n  File \"C:\\Users\\abeol\\Anaconda3\\envs\\Deep-Notakto\\lib\\site-packages\\tensorflow\\python\\framework\\ops.py\", line 1470, in __init__\n    self._traceback = self._graph._extract_stack()  # pylint: disable=protected-access\n\nInvalidArgumentError (see above for traceback): Inf or NaN values : Tensor had NaN values\n\t [[Node: params/FiniteVerify/CheckNumerics = CheckNumerics[T=DT_FLOAT, _class=[\"loc:@params/loss\"], message=\"Inf or NaN values\", _device=\"/job:localhost/replica:0/task:0/device:CPU:0\"](params/loss)]]\n",
     "output_type": "error",
     "traceback": [
      "\u001b[1;31m---------------------------------------------------------------------------\u001b[0m",
      "\u001b[1;31mInvalidArgumentError\u001b[0m                      Traceback (most recent call last)",
      "\u001b[1;32m~\\Anaconda3\\envs\\Deep-Notakto\\lib\\site-packages\\tensorflow\\python\\client\\session.py\u001b[0m in \u001b[0;36m_do_call\u001b[1;34m(self, fn, *args)\u001b[0m\n\u001b[0;32m   1322\u001b[0m     \u001b[1;32mtry\u001b[0m\u001b[1;33m:\u001b[0m\u001b[1;33m\u001b[0m\u001b[0m\n\u001b[1;32m-> 1323\u001b[1;33m       \u001b[1;32mreturn\u001b[0m \u001b[0mfn\u001b[0m\u001b[1;33m(\u001b[0m\u001b[1;33m*\u001b[0m\u001b[0margs\u001b[0m\u001b[1;33m)\u001b[0m\u001b[1;33m\u001b[0m\u001b[0m\n\u001b[0m\u001b[0;32m   1324\u001b[0m     \u001b[1;32mexcept\u001b[0m \u001b[0merrors\u001b[0m\u001b[1;33m.\u001b[0m\u001b[0mOpError\u001b[0m \u001b[1;32mas\u001b[0m \u001b[0me\u001b[0m\u001b[1;33m:\u001b[0m\u001b[1;33m\u001b[0m\u001b[0m\n",
      "\u001b[1;32m~\\Anaconda3\\envs\\Deep-Notakto\\lib\\site-packages\\tensorflow\\python\\client\\session.py\u001b[0m in \u001b[0;36m_run_fn\u001b[1;34m(session, feed_dict, fetch_list, target_list, options, run_metadata)\u001b[0m\n\u001b[0;32m   1301\u001b[0m                                    \u001b[0mfeed_dict\u001b[0m\u001b[1;33m,\u001b[0m \u001b[0mfetch_list\u001b[0m\u001b[1;33m,\u001b[0m \u001b[0mtarget_list\u001b[0m\u001b[1;33m,\u001b[0m\u001b[1;33m\u001b[0m\u001b[0m\n\u001b[1;32m-> 1302\u001b[1;33m                                    status, run_metadata)\n\u001b[0m\u001b[0;32m   1303\u001b[0m \u001b[1;33m\u001b[0m\u001b[0m\n",
      "\u001b[1;32m~\\Anaconda3\\envs\\Deep-Notakto\\lib\\site-packages\\tensorflow\\python\\framework\\errors_impl.py\u001b[0m in \u001b[0;36m__exit__\u001b[1;34m(self, type_arg, value_arg, traceback_arg)\u001b[0m\n\u001b[0;32m    472\u001b[0m             \u001b[0mcompat\u001b[0m\u001b[1;33m.\u001b[0m\u001b[0mas_text\u001b[0m\u001b[1;33m(\u001b[0m\u001b[0mc_api\u001b[0m\u001b[1;33m.\u001b[0m\u001b[0mTF_Message\u001b[0m\u001b[1;33m(\u001b[0m\u001b[0mself\u001b[0m\u001b[1;33m.\u001b[0m\u001b[0mstatus\u001b[0m\u001b[1;33m.\u001b[0m\u001b[0mstatus\u001b[0m\u001b[1;33m)\u001b[0m\u001b[1;33m)\u001b[0m\u001b[1;33m,\u001b[0m\u001b[1;33m\u001b[0m\u001b[0m\n\u001b[1;32m--> 473\u001b[1;33m             c_api.TF_GetCode(self.status.status))\n\u001b[0m\u001b[0;32m    474\u001b[0m     \u001b[1;31m# Delete the underlying status object from memory otherwise it stays alive\u001b[0m\u001b[1;33m\u001b[0m\u001b[1;33m\u001b[0m\u001b[0m\n",
      "\u001b[1;31mInvalidArgumentError\u001b[0m: Inf or NaN values : Tensor had NaN values\n\t [[Node: params/FiniteVerify/CheckNumerics = CheckNumerics[T=DT_FLOAT, _class=[\"loc:@params/loss\"], message=\"Inf or NaN values\", _device=\"/job:localhost/replica:0/task:0/device:CPU:0\"](params/loss)]]",
      "\nDuring handling of the above exception, another exception occurred:\n",
      "\u001b[1;31mInvalidArgumentError\u001b[0m                      Traceback (most recent call last)",
      "\u001b[1;32m<ipython-input-47-6af00150ba2a>\u001b[0m in \u001b[0;36m<module>\u001b[1;34m()\u001b[0m\n\u001b[1;32m----> 1\u001b[1;33m \u001b[1;33m[\u001b[0m\u001b[0magent\u001b[0m\u001b[1;33m.\u001b[0m\u001b[0mtrainer\u001b[0m\u001b[1;33m.\u001b[0m\u001b[0monline\u001b[0m\u001b[1;33m(\u001b[0m\u001b[0magent\u001b[0m\u001b[1;33m.\u001b[0m\u001b[0mstates\u001b[0m\u001b[1;33m[\u001b[0m\u001b[1;33m-\u001b[0m\u001b[1;36m1\u001b[0m\u001b[1;33m]\u001b[0m\u001b[1;33m,\u001b[0m \u001b[0magent\u001b[0m\u001b[1;33m.\u001b[0m\u001b[0mpolicies\u001b[0m\u001b[1;33m[\u001b[0m\u001b[1;33m-\u001b[0m\u001b[1;36m1\u001b[0m\u001b[1;33m]\u001b[0m\u001b[1;33m,\u001b[0m \u001b[0magent\u001b[0m\u001b[1;33m.\u001b[0m\u001b[0mwinners\u001b[0m\u001b[1;33m[\u001b[0m\u001b[1;33m-\u001b[0m\u001b[1;36m1\u001b[0m\u001b[1;33m]\u001b[0m\u001b[1;33m)\u001b[0m \u001b[1;32mfor\u001b[0m \u001b[0m_\u001b[0m \u001b[1;32min\u001b[0m \u001b[0mrange\u001b[0m\u001b[1;33m(\u001b[0m\u001b[1;36m10\u001b[0m\u001b[1;33m)\u001b[0m\u001b[1;33m]\u001b[0m\u001b[1;33m\u001b[0m\u001b[0m\n\u001b[0m",
      "\u001b[1;32m<ipython-input-47-6af00150ba2a>\u001b[0m in \u001b[0;36m<listcomp>\u001b[1;34m(.0)\u001b[0m\n\u001b[1;32m----> 1\u001b[1;33m \u001b[1;33m[\u001b[0m\u001b[0magent\u001b[0m\u001b[1;33m.\u001b[0m\u001b[0mtrainer\u001b[0m\u001b[1;33m.\u001b[0m\u001b[0monline\u001b[0m\u001b[1;33m(\u001b[0m\u001b[0magent\u001b[0m\u001b[1;33m.\u001b[0m\u001b[0mstates\u001b[0m\u001b[1;33m[\u001b[0m\u001b[1;33m-\u001b[0m\u001b[1;36m1\u001b[0m\u001b[1;33m]\u001b[0m\u001b[1;33m,\u001b[0m \u001b[0magent\u001b[0m\u001b[1;33m.\u001b[0m\u001b[0mpolicies\u001b[0m\u001b[1;33m[\u001b[0m\u001b[1;33m-\u001b[0m\u001b[1;36m1\u001b[0m\u001b[1;33m]\u001b[0m\u001b[1;33m,\u001b[0m \u001b[0magent\u001b[0m\u001b[1;33m.\u001b[0m\u001b[0mwinners\u001b[0m\u001b[1;33m[\u001b[0m\u001b[1;33m-\u001b[0m\u001b[1;36m1\u001b[0m\u001b[1;33m]\u001b[0m\u001b[1;33m)\u001b[0m \u001b[1;32mfor\u001b[0m \u001b[0m_\u001b[0m \u001b[1;32min\u001b[0m \u001b[0mrange\u001b[0m\u001b[1;33m(\u001b[0m\u001b[1;36m10\u001b[0m\u001b[1;33m)\u001b[0m\u001b[1;33m]\u001b[0m\u001b[1;33m\u001b[0m\u001b[0m\n\u001b[0m",
      "\u001b[1;32m~\\Git\\Deep-Notakto\\deepnotakto\\agents\\qtree.py\u001b[0m in \u001b[0;36monline\u001b[1;34m(self, state, probs, winner, learn_rate, **kwargs)\u001b[0m\n\u001b[0;32m    387\u001b[0m     \u001b[1;32mdef\u001b[0m \u001b[0monline\u001b[0m\u001b[1;33m(\u001b[0m\u001b[0mself\u001b[0m\u001b[1;33m,\u001b[0m \u001b[0mstate\u001b[0m\u001b[1;33m,\u001b[0m \u001b[0mprobs\u001b[0m\u001b[1;33m,\u001b[0m \u001b[0mwinner\u001b[0m\u001b[1;33m,\u001b[0m \u001b[0mlearn_rate\u001b[0m \u001b[1;33m=\u001b[0m \u001b[1;32mNone\u001b[0m\u001b[1;33m,\u001b[0m \u001b[0mepochs\u001b[0m \u001b[1;33m=\u001b[0m \u001b[1;36m1\u001b[0m\u001b[1;33m,\u001b[0m \u001b[1;33m**\u001b[0m\u001b[0mkwargs\u001b[0m\u001b[1;33m)\u001b[0m\u001b[1;33m:\u001b[0m\u001b[1;33m\u001b[0m\u001b[0m\n\u001b[0;32m    388\u001b[0m         \u001b[1;34m\"\"\"Gets a callable function for online params\"\"\"\u001b[0m\u001b[1;33m\u001b[0m\u001b[0m\n\u001b[1;32m--> 389\u001b[1;33m         self.offline(states = [state], policies = [probs], winners = [winner],\n\u001b[0m\u001b[0;32m    390\u001b[0m                      batch_size = 1, epochs = epochs, learn_rate =learn_rate, **kwargs)\n\u001b[0;32m    391\u001b[0m \u001b[1;33m\u001b[0m\u001b[0m\n",
      "\u001b[1;32m~\\Git\\Deep-Notakto\\deepnotakto\\agents\\qtree.py\u001b[0m in \u001b[0;36moffline\u001b[1;34m(self, states, policies, winners, batch_size, epochs, learn_rate, rotate, rotate_live)\u001b[0m\n\u001b[0;32m    376\u001b[0m                     \u001b[0mbs\u001b[0m\u001b[1;33m,\u001b[0m \u001b[0mbp\u001b[0m\u001b[1;33m,\u001b[0m \u001b[0mbw\u001b[0m \u001b[1;33m=\u001b[0m \u001b[0mself\u001b[0m\u001b[1;33m.\u001b[0m\u001b[0mget_rotations\u001b[0m\u001b[1;33m(\u001b[0m\u001b[0mbs\u001b[0m\u001b[1;33m,\u001b[0m \u001b[0mbp\u001b[0m\u001b[1;33m,\u001b[0m \u001b[0mbw\u001b[0m\u001b[1;33m)\u001b[0m\u001b[1;33m\u001b[0m\u001b[0m\n\u001b[0;32m    377\u001b[0m                 \u001b[1;31m# Get the states and targets for the indicies in the batch and update\u001b[0m\u001b[1;33m\u001b[0m\u001b[1;33m\u001b[0m\u001b[0m\n\u001b[1;32m--> 378\u001b[1;33m                 \u001b[0msummary\u001b[0m \u001b[1;33m=\u001b[0m \u001b[0mself\u001b[0m\u001b[1;33m.\u001b[0m\u001b[0magent\u001b[0m\u001b[1;33m.\u001b[0m\u001b[0mupdate\u001b[0m\u001b[1;33m(\u001b[0m\u001b[0mbs\u001b[0m\u001b[1;33m,\u001b[0m \u001b[0mbp\u001b[0m\u001b[1;33m,\u001b[0m \u001b[0mbw\u001b[0m\u001b[1;33m,\u001b[0m \u001b[0mlearn_rate\u001b[0m\u001b[1;33m)\u001b[0m\u001b[1;33m\u001b[0m\u001b[0m\n\u001b[0m\u001b[0;32m    379\u001b[0m             \u001b[1;31m# Record if Tensorboard recording enabled\u001b[0m\u001b[1;33m\u001b[0m\u001b[1;33m\u001b[0m\u001b[0m\n\u001b[0;32m    380\u001b[0m             \u001b[1;32mif\u001b[0m \u001b[0mself\u001b[0m\u001b[1;33m.\u001b[0m\u001b[0mrecord\u001b[0m \u001b[1;32mand\u001b[0m \u001b[1;33m(\u001b[0m\u001b[0mself\u001b[0m\u001b[1;33m.\u001b[0m\u001b[0miteration\u001b[0m \u001b[1;33m%\u001b[0m \u001b[0mself\u001b[0m\u001b[1;33m.\u001b[0m\u001b[0mtensorboard_interval\u001b[0m \u001b[1;33m==\u001b[0m \u001b[1;36m0\u001b[0m\u001b[1;33m)\u001b[0m\u001b[0;31m \u001b[0m\u001b[0;31m\\\u001b[0m\u001b[1;33m\u001b[0m\u001b[0m\n",
      "\u001b[1;32m~\\Git\\Deep-Notakto\\deepnotakto\\agents\\qtree.py\u001b[0m in \u001b[0;36mupdate\u001b[1;34m(self, states, probs, winners, learn_rate)\u001b[0m\n\u001b[0;32m    171\u001b[0m         \u001b[1;31m# Optimize the network and return the tensorboard summary information\u001b[0m\u001b[1;33m\u001b[0m\u001b[1;33m\u001b[0m\u001b[0m\n\u001b[0;32m    172\u001b[0m         \u001b[1;31m#print(self.session.run(self.loss, feed_dict = feed_dict))\u001b[0m\u001b[1;33m\u001b[0m\u001b[1;33m\u001b[0m\u001b[0m\n\u001b[1;32m--> 173\u001b[1;33m         \u001b[1;32mreturn\u001b[0m \u001b[0mself\u001b[0m\u001b[1;33m.\u001b[0m\u001b[0msession\u001b[0m\u001b[1;33m.\u001b[0m\u001b[0mrun\u001b[0m\u001b[1;33m(\u001b[0m\u001b[1;33m[\u001b[0m\u001b[0mself\u001b[0m\u001b[1;33m.\u001b[0m\u001b[0msummary_op\u001b[0m\u001b[1;33m,\u001b[0m \u001b[0mself\u001b[0m\u001b[1;33m.\u001b[0m\u001b[0mupdate_op\u001b[0m\u001b[1;33m]\u001b[0m\u001b[1;33m,\u001b[0m \u001b[0mfeed_dict\u001b[0m \u001b[1;33m=\u001b[0m \u001b[0mfeed_dict\u001b[0m\u001b[1;33m)\u001b[0m\u001b[1;33m[\u001b[0m\u001b[1;36m0\u001b[0m\u001b[1;33m]\u001b[0m\u001b[1;33m\u001b[0m\u001b[0m\n\u001b[0m\u001b[0;32m    174\u001b[0m \u001b[1;33m\u001b[0m\u001b[0m\n\u001b[0;32m    175\u001b[0m     \u001b[1;32mdef\u001b[0m \u001b[0msave_as_prob_model\u001b[0m\u001b[1;33m(\u001b[0m\u001b[0mself\u001b[0m\u001b[1;33m,\u001b[0m \u001b[0mname\u001b[0m\u001b[1;33m)\u001b[0m\u001b[1;33m:\u001b[0m\u001b[1;33m\u001b[0m\u001b[0m\n",
      "\u001b[1;32m~\\Anaconda3\\envs\\Deep-Notakto\\lib\\site-packages\\tensorflow\\python\\client\\session.py\u001b[0m in \u001b[0;36mrun\u001b[1;34m(self, fetches, feed_dict, options, run_metadata)\u001b[0m\n\u001b[0;32m    887\u001b[0m     \u001b[1;32mtry\u001b[0m\u001b[1;33m:\u001b[0m\u001b[1;33m\u001b[0m\u001b[0m\n\u001b[0;32m    888\u001b[0m       result = self._run(None, fetches, feed_dict, options_ptr,\n\u001b[1;32m--> 889\u001b[1;33m                          run_metadata_ptr)\n\u001b[0m\u001b[0;32m    890\u001b[0m       \u001b[1;32mif\u001b[0m \u001b[0mrun_metadata\u001b[0m\u001b[1;33m:\u001b[0m\u001b[1;33m\u001b[0m\u001b[0m\n\u001b[0;32m    891\u001b[0m         \u001b[0mproto_data\u001b[0m \u001b[1;33m=\u001b[0m \u001b[0mtf_session\u001b[0m\u001b[1;33m.\u001b[0m\u001b[0mTF_GetBuffer\u001b[0m\u001b[1;33m(\u001b[0m\u001b[0mrun_metadata_ptr\u001b[0m\u001b[1;33m)\u001b[0m\u001b[1;33m\u001b[0m\u001b[0m\n",
      "\u001b[1;32m~\\Anaconda3\\envs\\Deep-Notakto\\lib\\site-packages\\tensorflow\\python\\client\\session.py\u001b[0m in \u001b[0;36m_run\u001b[1;34m(self, handle, fetches, feed_dict, options, run_metadata)\u001b[0m\n\u001b[0;32m   1118\u001b[0m     \u001b[1;32mif\u001b[0m \u001b[0mfinal_fetches\u001b[0m \u001b[1;32mor\u001b[0m \u001b[0mfinal_targets\u001b[0m \u001b[1;32mor\u001b[0m \u001b[1;33m(\u001b[0m\u001b[0mhandle\u001b[0m \u001b[1;32mand\u001b[0m \u001b[0mfeed_dict_tensor\u001b[0m\u001b[1;33m)\u001b[0m\u001b[1;33m:\u001b[0m\u001b[1;33m\u001b[0m\u001b[0m\n\u001b[0;32m   1119\u001b[0m       results = self._do_run(handle, final_targets, final_fetches,\n\u001b[1;32m-> 1120\u001b[1;33m                              feed_dict_tensor, options, run_metadata)\n\u001b[0m\u001b[0;32m   1121\u001b[0m     \u001b[1;32melse\u001b[0m\u001b[1;33m:\u001b[0m\u001b[1;33m\u001b[0m\u001b[0m\n\u001b[0;32m   1122\u001b[0m       \u001b[0mresults\u001b[0m \u001b[1;33m=\u001b[0m \u001b[1;33m[\u001b[0m\u001b[1;33m]\u001b[0m\u001b[1;33m\u001b[0m\u001b[0m\n",
      "\u001b[1;32m~\\Anaconda3\\envs\\Deep-Notakto\\lib\\site-packages\\tensorflow\\python\\client\\session.py\u001b[0m in \u001b[0;36m_do_run\u001b[1;34m(self, handle, target_list, fetch_list, feed_dict, options, run_metadata)\u001b[0m\n\u001b[0;32m   1315\u001b[0m     \u001b[1;32mif\u001b[0m \u001b[0mhandle\u001b[0m \u001b[1;32mis\u001b[0m \u001b[1;32mNone\u001b[0m\u001b[1;33m:\u001b[0m\u001b[1;33m\u001b[0m\u001b[0m\n\u001b[0;32m   1316\u001b[0m       return self._do_call(_run_fn, self._session, feeds, fetches, targets,\n\u001b[1;32m-> 1317\u001b[1;33m                            options, run_metadata)\n\u001b[0m\u001b[0;32m   1318\u001b[0m     \u001b[1;32melse\u001b[0m\u001b[1;33m:\u001b[0m\u001b[1;33m\u001b[0m\u001b[0m\n\u001b[0;32m   1319\u001b[0m       \u001b[1;32mreturn\u001b[0m \u001b[0mself\u001b[0m\u001b[1;33m.\u001b[0m\u001b[0m_do_call\u001b[0m\u001b[1;33m(\u001b[0m\u001b[0m_prun_fn\u001b[0m\u001b[1;33m,\u001b[0m \u001b[0mself\u001b[0m\u001b[1;33m.\u001b[0m\u001b[0m_session\u001b[0m\u001b[1;33m,\u001b[0m \u001b[0mhandle\u001b[0m\u001b[1;33m,\u001b[0m \u001b[0mfeeds\u001b[0m\u001b[1;33m,\u001b[0m \u001b[0mfetches\u001b[0m\u001b[1;33m)\u001b[0m\u001b[1;33m\u001b[0m\u001b[0m\n",
      "\u001b[1;32m~\\Anaconda3\\envs\\Deep-Notakto\\lib\\site-packages\\tensorflow\\python\\client\\session.py\u001b[0m in \u001b[0;36m_do_call\u001b[1;34m(self, fn, *args)\u001b[0m\n\u001b[0;32m   1334\u001b[0m         \u001b[1;32mexcept\u001b[0m \u001b[0mKeyError\u001b[0m\u001b[1;33m:\u001b[0m\u001b[1;33m\u001b[0m\u001b[0m\n\u001b[0;32m   1335\u001b[0m           \u001b[1;32mpass\u001b[0m\u001b[1;33m\u001b[0m\u001b[0m\n\u001b[1;32m-> 1336\u001b[1;33m       \u001b[1;32mraise\u001b[0m \u001b[0mtype\u001b[0m\u001b[1;33m(\u001b[0m\u001b[0me\u001b[0m\u001b[1;33m)\u001b[0m\u001b[1;33m(\u001b[0m\u001b[0mnode_def\u001b[0m\u001b[1;33m,\u001b[0m \u001b[0mop\u001b[0m\u001b[1;33m,\u001b[0m \u001b[0mmessage\u001b[0m\u001b[1;33m)\u001b[0m\u001b[1;33m\u001b[0m\u001b[0m\n\u001b[0m\u001b[0;32m   1337\u001b[0m \u001b[1;33m\u001b[0m\u001b[0m\n\u001b[0;32m   1338\u001b[0m   \u001b[1;32mdef\u001b[0m \u001b[0m_extend_graph\u001b[0m\u001b[1;33m(\u001b[0m\u001b[0mself\u001b[0m\u001b[1;33m)\u001b[0m\u001b[1;33m:\u001b[0m\u001b[1;33m\u001b[0m\u001b[0m\n",
      "\u001b[1;31mInvalidArgumentError\u001b[0m: Inf or NaN values : Tensor had NaN values\n\t [[Node: params/FiniteVerify/CheckNumerics = CheckNumerics[T=DT_FLOAT, _class=[\"loc:@params/loss\"], message=\"Inf or NaN values\", _device=\"/job:localhost/replica:0/task:0/device:CPU:0\"](params/loss)]]\n\nCaused by op 'params/FiniteVerify/CheckNumerics', defined at:\n  File \"C:\\Users\\abeol\\Anaconda3\\envs\\Deep-Notakto\\lib\\runpy.py\", line 193, in _run_module_as_main\n    \"__main__\", mod_spec)\n  File \"C:\\Users\\abeol\\Anaconda3\\envs\\Deep-Notakto\\lib\\runpy.py\", line 85, in _run_code\n    exec(code, run_globals)\n  File \"C:\\Users\\abeol\\Anaconda3\\envs\\Deep-Notakto\\lib\\site-packages\\ipykernel_launcher.py\", line 16, in <module>\n    app.launch_new_instance()\n  File \"C:\\Users\\abeol\\Anaconda3\\envs\\Deep-Notakto\\lib\\site-packages\\traitlets\\config\\application.py\", line 658, in launch_instance\n    app.start()\n  File \"C:\\Users\\abeol\\Anaconda3\\envs\\Deep-Notakto\\lib\\site-packages\\ipykernel\\kernelapp.py\", line 477, in start\n    ioloop.IOLoop.instance().start()\n  File \"C:\\Users\\abeol\\Anaconda3\\envs\\Deep-Notakto\\lib\\site-packages\\zmq\\eventloop\\ioloop.py\", line 177, in start\n    super(ZMQIOLoop, self).start()\n  File \"C:\\Users\\abeol\\Anaconda3\\envs\\Deep-Notakto\\lib\\site-packages\\tornado\\ioloop.py\", line 888, in start\n    handler_func(fd_obj, events)\n  File \"C:\\Users\\abeol\\Anaconda3\\envs\\Deep-Notakto\\lib\\site-packages\\tornado\\stack_context.py\", line 277, in null_wrapper\n    return fn(*args, **kwargs)\n  File \"C:\\Users\\abeol\\Anaconda3\\envs\\Deep-Notakto\\lib\\site-packages\\zmq\\eventloop\\zmqstream.py\", line 440, in _handle_events\n    self._handle_recv()\n  File \"C:\\Users\\abeol\\Anaconda3\\envs\\Deep-Notakto\\lib\\site-packages\\zmq\\eventloop\\zmqstream.py\", line 472, in _handle_recv\n    self._run_callback(callback, msg)\n  File \"C:\\Users\\abeol\\Anaconda3\\envs\\Deep-Notakto\\lib\\site-packages\\zmq\\eventloop\\zmqstream.py\", line 414, in _run_callback\n    callback(*args, **kwargs)\n  File \"C:\\Users\\abeol\\Anaconda3\\envs\\Deep-Notakto\\lib\\site-packages\\tornado\\stack_context.py\", line 277, in null_wrapper\n    return fn(*args, **kwargs)\n  File \"C:\\Users\\abeol\\Anaconda3\\envs\\Deep-Notakto\\lib\\site-packages\\ipykernel\\kernelbase.py\", line 283, in dispatcher\n    return self.dispatch_shell(stream, msg)\n  File \"C:\\Users\\abeol\\Anaconda3\\envs\\Deep-Notakto\\lib\\site-packages\\ipykernel\\kernelbase.py\", line 235, in dispatch_shell\n    handler(stream, idents, msg)\n  File \"C:\\Users\\abeol\\Anaconda3\\envs\\Deep-Notakto\\lib\\site-packages\\ipykernel\\kernelbase.py\", line 399, in execute_request\n    user_expressions, allow_stdin)\n  File \"C:\\Users\\abeol\\Anaconda3\\envs\\Deep-Notakto\\lib\\site-packages\\ipykernel\\ipkernel.py\", line 196, in do_execute\n    res = shell.run_cell(code, store_history=store_history, silent=silent)\n  File \"C:\\Users\\abeol\\Anaconda3\\envs\\Deep-Notakto\\lib\\site-packages\\ipykernel\\zmqshell.py\", line 533, in run_cell\n    return super(ZMQInteractiveShell, self).run_cell(*args, **kwargs)\n  File \"C:\\Users\\abeol\\Anaconda3\\envs\\Deep-Notakto\\lib\\site-packages\\IPython\\core\\interactiveshell.py\", line 2698, in run_cell\n    interactivity=interactivity, compiler=compiler, result=result)\n  File \"C:\\Users\\abeol\\Anaconda3\\envs\\Deep-Notakto\\lib\\site-packages\\IPython\\core\\interactiveshell.py\", line 2802, in run_ast_nodes\n    if self.run_code(code, result):\n  File \"C:\\Users\\abeol\\Anaconda3\\envs\\Deep-Notakto\\lib\\site-packages\\IPython\\core\\interactiveshell.py\", line 2862, in run_code\n    exec(code_obj, self.user_global_ns, self.user_ns)\n  File \"<ipython-input-16-dcc950ae6a05>\", line 1, in <module>\n    agent = util.load_agent(\"agents/saves/new4_1.npz\", qtree.QTree)\n  File \"C:\\Users\\abeol\\Git\\Deep-Notakto\\deepnotakto\\util.py\", line 135, in load_agent\n    return CLASS(**loaded)\n  File \"C:\\Users\\abeol\\Git\\Deep-Notakto\\deepnotakto\\agents\\qtree.py\", line 35, in __init__\n    iterations, params, max_queue, None, None, **kwargs)\n  File \"..\\deepnotakto\\agents\\Q.py\", line 83, in __init__\n    self.initialize(params = params, iterations = iterations, **kwargs)\n  File \"C:\\Users\\abeol\\Git\\Deep-Notakto\\deepnotakto\\agents\\qtree.py\", line 72, in initialize\n    self._init_training_vars()\n  File \"C:\\Users\\abeol\\Git\\Deep-Notakto\\deepnotakto\\agents\\qtree.py\", line 97, in _init_training_vars\n    self.loss = self._get_loss_function()\n  File \"C:\\Users\\abeol\\Git\\Deep-Notakto\\deepnotakto\\agents\\qtree.py\", line 128, in _get_loss_function\n    msg = \"Inf or NaN values\")\n  File \"C:\\Users\\abeol\\Anaconda3\\envs\\Deep-Notakto\\lib\\site-packages\\tensorflow\\python\\ops\\numerics.py\", line 42, in verify_tensor_all_finite\n    verify_input = array_ops.check_numerics(t, message=msg)\n  File \"C:\\Users\\abeol\\Anaconda3\\envs\\Deep-Notakto\\lib\\site-packages\\tensorflow\\python\\ops\\gen_array_ops.py\", line 568, in check_numerics\n    \"CheckNumerics\", tensor=tensor, message=message, name=name)\n  File \"C:\\Users\\abeol\\Anaconda3\\envs\\Deep-Notakto\\lib\\site-packages\\tensorflow\\python\\framework\\op_def_library.py\", line 787, in _apply_op_helper\n    op_def=op_def)\n  File \"C:\\Users\\abeol\\Anaconda3\\envs\\Deep-Notakto\\lib\\site-packages\\tensorflow\\python\\framework\\ops.py\", line 2956, in create_op\n    op_def=op_def)\n  File \"C:\\Users\\abeol\\Anaconda3\\envs\\Deep-Notakto\\lib\\site-packages\\tensorflow\\python\\framework\\ops.py\", line 1470, in __init__\n    self._traceback = self._graph._extract_stack()  # pylint: disable=protected-access\n\nInvalidArgumentError (see above for traceback): Inf or NaN values : Tensor had NaN values\n\t [[Node: params/FiniteVerify/CheckNumerics = CheckNumerics[T=DT_FLOAT, _class=[\"loc:@params/loss\"], message=\"Inf or NaN values\", _device=\"/job:localhost/replica:0/task:0/device:CPU:0\"](params/loss)]]\n"
     ]
    }
   ],
   "source": [
    "[agent.trainer.online(agent.states[-1], agent.policies[-1], agent.winners[-1]) for _ in range(10)]"
   ]
  },
  {
   "cell_type": "code",
   "execution_count": 15,
   "metadata": {
    "collapsed": true
   },
   "outputs": [
    {
     "ename": "InvalidArgumentError",
     "evalue": "Inf or NaN values : Tensor had NaN values\n\t [[Node: params/FiniteVerify/CheckNumerics = CheckNumerics[T=DT_FLOAT, _class=[\"loc:@params/loss\"], message=\"Inf or NaN values\", _device=\"/job:localhost/replica:0/task:0/device:CPU:0\"](params/loss)]]\n\nCaused by op 'params/FiniteVerify/CheckNumerics', defined at:\n  File \"C:\\Users\\abeol\\Anaconda3\\envs\\Deep-Notakto\\lib\\runpy.py\", line 193, in _run_module_as_main\n    \"__main__\", mod_spec)\n  File \"C:\\Users\\abeol\\Anaconda3\\envs\\Deep-Notakto\\lib\\runpy.py\", line 85, in _run_code\n    exec(code, run_globals)\n  File \"C:\\Users\\abeol\\Anaconda3\\envs\\Deep-Notakto\\lib\\site-packages\\ipykernel_launcher.py\", line 16, in <module>\n    app.launch_new_instance()\n  File \"C:\\Users\\abeol\\Anaconda3\\envs\\Deep-Notakto\\lib\\site-packages\\traitlets\\config\\application.py\", line 658, in launch_instance\n    app.start()\n  File \"C:\\Users\\abeol\\Anaconda3\\envs\\Deep-Notakto\\lib\\site-packages\\ipykernel\\kernelapp.py\", line 477, in start\n    ioloop.IOLoop.instance().start()\n  File \"C:\\Users\\abeol\\Anaconda3\\envs\\Deep-Notakto\\lib\\site-packages\\zmq\\eventloop\\ioloop.py\", line 177, in start\n    super(ZMQIOLoop, self).start()\n  File \"C:\\Users\\abeol\\Anaconda3\\envs\\Deep-Notakto\\lib\\site-packages\\tornado\\ioloop.py\", line 888, in start\n    handler_func(fd_obj, events)\n  File \"C:\\Users\\abeol\\Anaconda3\\envs\\Deep-Notakto\\lib\\site-packages\\tornado\\stack_context.py\", line 277, in null_wrapper\n    return fn(*args, **kwargs)\n  File \"C:\\Users\\abeol\\Anaconda3\\envs\\Deep-Notakto\\lib\\site-packages\\zmq\\eventloop\\zmqstream.py\", line 440, in _handle_events\n    self._handle_recv()\n  File \"C:\\Users\\abeol\\Anaconda3\\envs\\Deep-Notakto\\lib\\site-packages\\zmq\\eventloop\\zmqstream.py\", line 472, in _handle_recv\n    self._run_callback(callback, msg)\n  File \"C:\\Users\\abeol\\Anaconda3\\envs\\Deep-Notakto\\lib\\site-packages\\zmq\\eventloop\\zmqstream.py\", line 414, in _run_callback\n    callback(*args, **kwargs)\n  File \"C:\\Users\\abeol\\Anaconda3\\envs\\Deep-Notakto\\lib\\site-packages\\tornado\\stack_context.py\", line 277, in null_wrapper\n    return fn(*args, **kwargs)\n  File \"C:\\Users\\abeol\\Anaconda3\\envs\\Deep-Notakto\\lib\\site-packages\\ipykernel\\kernelbase.py\", line 283, in dispatcher\n    return self.dispatch_shell(stream, msg)\n  File \"C:\\Users\\abeol\\Anaconda3\\envs\\Deep-Notakto\\lib\\site-packages\\ipykernel\\kernelbase.py\", line 235, in dispatch_shell\n    handler(stream, idents, msg)\n  File \"C:\\Users\\abeol\\Anaconda3\\envs\\Deep-Notakto\\lib\\site-packages\\ipykernel\\kernelbase.py\", line 399, in execute_request\n    user_expressions, allow_stdin)\n  File \"C:\\Users\\abeol\\Anaconda3\\envs\\Deep-Notakto\\lib\\site-packages\\ipykernel\\ipkernel.py\", line 196, in do_execute\n    res = shell.run_cell(code, store_history=store_history, silent=silent)\n  File \"C:\\Users\\abeol\\Anaconda3\\envs\\Deep-Notakto\\lib\\site-packages\\ipykernel\\zmqshell.py\", line 533, in run_cell\n    return super(ZMQInteractiveShell, self).run_cell(*args, **kwargs)\n  File \"C:\\Users\\abeol\\Anaconda3\\envs\\Deep-Notakto\\lib\\site-packages\\IPython\\core\\interactiveshell.py\", line 2698, in run_cell\n    interactivity=interactivity, compiler=compiler, result=result)\n  File \"C:\\Users\\abeol\\Anaconda3\\envs\\Deep-Notakto\\lib\\site-packages\\IPython\\core\\interactiveshell.py\", line 2802, in run_ast_nodes\n    if self.run_code(code, result):\n  File \"C:\\Users\\abeol\\Anaconda3\\envs\\Deep-Notakto\\lib\\site-packages\\IPython\\core\\interactiveshell.py\", line 2862, in run_code\n    exec(code_obj, self.user_global_ns, self.user_ns)\n  File \"<ipython-input-12-dcc950ae6a05>\", line 1, in <module>\n    agent = util.load_agent(\"agents/saves/new4_1.npz\", qtree.QTree)\n  File \"C:\\Users\\abeol\\Git\\Deep-Notakto\\deepnotakto\\util.py\", line 135, in load_agent\n    return CLASS(**loaded)\n  File \"C:\\Users\\abeol\\Git\\Deep-Notakto\\deepnotakto\\agents\\qtree.py\", line 35, in __init__\n    iterations, params, max_queue, None, None, **kwargs)\n  File \"..\\deepnotakto\\agents\\Q.py\", line 83, in __init__\n    self.initialize(params = params, iterations = iterations, **kwargs)\n  File \"C:\\Users\\abeol\\Git\\Deep-Notakto\\deepnotakto\\agents\\qtree.py\", line 72, in initialize\n    self._init_training_vars()\n  File \"C:\\Users\\abeol\\Git\\Deep-Notakto\\deepnotakto\\agents\\qtree.py\", line 97, in _init_training_vars\n    self.loss = self._get_loss_function()\n  File \"C:\\Users\\abeol\\Git\\Deep-Notakto\\deepnotakto\\agents\\qtree.py\", line 128, in _get_loss_function\n    msg = \"Inf or NaN values\")\n  File \"C:\\Users\\abeol\\Anaconda3\\envs\\Deep-Notakto\\lib\\site-packages\\tensorflow\\python\\ops\\numerics.py\", line 42, in verify_tensor_all_finite\n    verify_input = array_ops.check_numerics(t, message=msg)\n  File \"C:\\Users\\abeol\\Anaconda3\\envs\\Deep-Notakto\\lib\\site-packages\\tensorflow\\python\\ops\\gen_array_ops.py\", line 568, in check_numerics\n    \"CheckNumerics\", tensor=tensor, message=message, name=name)\n  File \"C:\\Users\\abeol\\Anaconda3\\envs\\Deep-Notakto\\lib\\site-packages\\tensorflow\\python\\framework\\op_def_library.py\", line 787, in _apply_op_helper\n    op_def=op_def)\n  File \"C:\\Users\\abeol\\Anaconda3\\envs\\Deep-Notakto\\lib\\site-packages\\tensorflow\\python\\framework\\ops.py\", line 2956, in create_op\n    op_def=op_def)\n  File \"C:\\Users\\abeol\\Anaconda3\\envs\\Deep-Notakto\\lib\\site-packages\\tensorflow\\python\\framework\\ops.py\", line 1470, in __init__\n    self._traceback = self._graph._extract_stack()  # pylint: disable=protected-access\n\nInvalidArgumentError (see above for traceback): Inf or NaN values : Tensor had NaN values\n\t [[Node: params/FiniteVerify/CheckNumerics = CheckNumerics[T=DT_FLOAT, _class=[\"loc:@params/loss\"], message=\"Inf or NaN values\", _device=\"/job:localhost/replica:0/task:0/device:CPU:0\"](params/loss)]]\n",
     "output_type": "error",
     "traceback": [
      "\u001b[1;31m---------------------------------------------------------------------------\u001b[0m",
      "\u001b[1;31mInvalidArgumentError\u001b[0m                      Traceback (most recent call last)",
      "\u001b[1;32m~\\Anaconda3\\envs\\Deep-Notakto\\lib\\site-packages\\tensorflow\\python\\client\\session.py\u001b[0m in \u001b[0;36m_do_call\u001b[1;34m(self, fn, *args)\u001b[0m\n\u001b[0;32m   1322\u001b[0m     \u001b[1;32mtry\u001b[0m\u001b[1;33m:\u001b[0m\u001b[1;33m\u001b[0m\u001b[0m\n\u001b[1;32m-> 1323\u001b[1;33m       \u001b[1;32mreturn\u001b[0m \u001b[0mfn\u001b[0m\u001b[1;33m(\u001b[0m\u001b[1;33m*\u001b[0m\u001b[0margs\u001b[0m\u001b[1;33m)\u001b[0m\u001b[1;33m\u001b[0m\u001b[0m\n\u001b[0m\u001b[0;32m   1324\u001b[0m     \u001b[1;32mexcept\u001b[0m \u001b[0merrors\u001b[0m\u001b[1;33m.\u001b[0m\u001b[0mOpError\u001b[0m \u001b[1;32mas\u001b[0m \u001b[0me\u001b[0m\u001b[1;33m:\u001b[0m\u001b[1;33m\u001b[0m\u001b[0m\n",
      "\u001b[1;32m~\\Anaconda3\\envs\\Deep-Notakto\\lib\\site-packages\\tensorflow\\python\\client\\session.py\u001b[0m in \u001b[0;36m_run_fn\u001b[1;34m(session, feed_dict, fetch_list, target_list, options, run_metadata)\u001b[0m\n\u001b[0;32m   1301\u001b[0m                                    \u001b[0mfeed_dict\u001b[0m\u001b[1;33m,\u001b[0m \u001b[0mfetch_list\u001b[0m\u001b[1;33m,\u001b[0m \u001b[0mtarget_list\u001b[0m\u001b[1;33m,\u001b[0m\u001b[1;33m\u001b[0m\u001b[0m\n\u001b[1;32m-> 1302\u001b[1;33m                                    status, run_metadata)\n\u001b[0m\u001b[0;32m   1303\u001b[0m \u001b[1;33m\u001b[0m\u001b[0m\n",
      "\u001b[1;32m~\\Anaconda3\\envs\\Deep-Notakto\\lib\\site-packages\\tensorflow\\python\\framework\\errors_impl.py\u001b[0m in \u001b[0;36m__exit__\u001b[1;34m(self, type_arg, value_arg, traceback_arg)\u001b[0m\n\u001b[0;32m    472\u001b[0m             \u001b[0mcompat\u001b[0m\u001b[1;33m.\u001b[0m\u001b[0mas_text\u001b[0m\u001b[1;33m(\u001b[0m\u001b[0mc_api\u001b[0m\u001b[1;33m.\u001b[0m\u001b[0mTF_Message\u001b[0m\u001b[1;33m(\u001b[0m\u001b[0mself\u001b[0m\u001b[1;33m.\u001b[0m\u001b[0mstatus\u001b[0m\u001b[1;33m.\u001b[0m\u001b[0mstatus\u001b[0m\u001b[1;33m)\u001b[0m\u001b[1;33m)\u001b[0m\u001b[1;33m,\u001b[0m\u001b[1;33m\u001b[0m\u001b[0m\n\u001b[1;32m--> 473\u001b[1;33m             c_api.TF_GetCode(self.status.status))\n\u001b[0m\u001b[0;32m    474\u001b[0m     \u001b[1;31m# Delete the underlying status object from memory otherwise it stays alive\u001b[0m\u001b[1;33m\u001b[0m\u001b[1;33m\u001b[0m\u001b[0m\n",
      "\u001b[1;31mInvalidArgumentError\u001b[0m: Inf or NaN values : Tensor had NaN values\n\t [[Node: params/FiniteVerify/CheckNumerics = CheckNumerics[T=DT_FLOAT, _class=[\"loc:@params/loss\"], message=\"Inf or NaN values\", _device=\"/job:localhost/replica:0/task:0/device:CPU:0\"](params/loss)]]",
      "\nDuring handling of the above exception, another exception occurred:\n",
      "\u001b[1;31mInvalidArgumentError\u001b[0m                      Traceback (most recent call last)",
      "\u001b[1;32m<ipython-input-15-4559925dc82a>\u001b[0m in \u001b[0;36m<module>\u001b[1;34m()\u001b[0m\n\u001b[1;32m----> 1\u001b[1;33m \u001b[0magent\u001b[0m\u001b[1;33m.\u001b[0m\u001b[0mself_play\u001b[0m\u001b[1;33m(\u001b[0m\u001b[1;36m1\u001b[0m\u001b[1;33m,\u001b[0m \u001b[1;36m20\u001b[0m\u001b[1;33m,\u001b[0m \u001b[0mtrain\u001b[0m \u001b[1;33m=\u001b[0m \u001b[1;32mTrue\u001b[0m\u001b[1;33m,\u001b[0m \u001b[0msave_every\u001b[0m \u001b[1;33m=\u001b[0m \u001b[1;36m1\u001b[0m\u001b[1;33m,\u001b[0m \u001b[0msave_name\u001b[0m \u001b[1;33m=\u001b[0m \u001b[1;34m\"agents/saves/new4_1.npz\"\u001b[0m\u001b[1;33m)\u001b[0m\u001b[1;33m\u001b[0m\u001b[0m\n\u001b[0m",
      "\u001b[1;32m~\\Git\\Deep-Notakto\\deepnotakto\\agents\\qtree.py\u001b[0m in \u001b[0;36mself_play\u001b[1;34m(self, games, simulations, train, save_every, save_name)\u001b[0m\n\u001b[0;32m    256\u001b[0m             \u001b[1;31m# Train\u001b[0m\u001b[1;33m\u001b[0m\u001b[1;33m\u001b[0m\u001b[0m\n\u001b[0;32m    257\u001b[0m             \u001b[1;32mif\u001b[0m \u001b[0mtrain\u001b[0m\u001b[1;33m:\u001b[0m\u001b[1;33m\u001b[0m\u001b[0m\n\u001b[1;32m--> 258\u001b[1;33m                 \u001b[0mself\u001b[0m\u001b[1;33m.\u001b[0m\u001b[0mtrain\u001b[0m\u001b[1;33m(\u001b[0m\u001b[1;33m)\u001b[0m\u001b[1;33m\u001b[0m\u001b[0m\n\u001b[0m\u001b[0;32m    259\u001b[0m             \u001b[1;31m# Save model\u001b[0m\u001b[1;33m\u001b[0m\u001b[1;33m\u001b[0m\u001b[0m\n\u001b[0;32m    260\u001b[0m             \u001b[1;32mif\u001b[0m \u001b[0msave_every\u001b[0m \u001b[1;33m>\u001b[0m \u001b[1;36m0\u001b[0m \u001b[1;32mand\u001b[0m \u001b[0mgame\u001b[0m \u001b[1;33m%\u001b[0m \u001b[0msave_every\u001b[0m \u001b[1;33m==\u001b[0m \u001b[1;36m0\u001b[0m\u001b[1;33m:\u001b[0m\u001b[1;33m\u001b[0m\u001b[0m\n",
      "\u001b[1;32m~\\Git\\Deep-Notakto\\deepnotakto\\agents\\qtree.py\u001b[0m in \u001b[0;36mtrain\u001b[1;34m(self, **kwargs)\u001b[0m\n\u001b[0;32m    185\u001b[0m \u001b[1;33m\u001b[0m\u001b[0m\n\u001b[0;32m    186\u001b[0m     \u001b[1;32mdef\u001b[0m \u001b[0mtrain\u001b[0m\u001b[1;33m(\u001b[0m\u001b[0mself\u001b[0m\u001b[1;33m,\u001b[0m \u001b[1;33m**\u001b[0m\u001b[0mkwargs\u001b[0m\u001b[1;33m)\u001b[0m\u001b[1;33m:\u001b[0m\u001b[1;33m\u001b[0m\u001b[0m\n\u001b[1;32m--> 187\u001b[1;33m         \u001b[0mself\u001b[0m\u001b[1;33m.\u001b[0m\u001b[0mtrainer\u001b[0m\u001b[1;33m.\u001b[0m\u001b[0mtrain\u001b[0m\u001b[1;33m(\u001b[0m\u001b[1;33m**\u001b[0m\u001b[0mkwargs\u001b[0m\u001b[1;33m)\u001b[0m\u001b[1;33m\u001b[0m\u001b[0m\n\u001b[0m\u001b[0;32m    188\u001b[0m \u001b[1;33m\u001b[0m\u001b[0m\n\u001b[0;32m    189\u001b[0m     \u001b[1;32mdef\u001b[0m \u001b[0madd_episode\u001b[0m\u001b[1;33m(\u001b[0m\u001b[0mself\u001b[0m\u001b[1;33m,\u001b[0m \u001b[0mstate\u001b[0m\u001b[1;33m,\u001b[0m \u001b[0mpolicy\u001b[0m\u001b[1;33m,\u001b[0m \u001b[0mvalue\u001b[0m \u001b[1;33m=\u001b[0m \u001b[1;36m0\u001b[0m\u001b[1;33m)\u001b[0m\u001b[1;33m:\u001b[0m\u001b[1;33m\u001b[0m\u001b[0m\n",
      "\u001b[1;32m~\\Git\\Deep-Notakto\\deepnotakto\\agents\\qtree.py\u001b[0m in \u001b[0;36mtrain\u001b[1;34m(self, **kwargs)\u001b[0m\n\u001b[0;32m    338\u001b[0m                      \u001b[1;33m[\u001b[0m\u001b[0mself\u001b[0m\u001b[1;33m.\u001b[0m\u001b[0magent\u001b[0m\u001b[1;33m.\u001b[0m\u001b[0mpolicies\u001b[0m\u001b[1;33m[\u001b[0m\u001b[0mi\u001b[0m\u001b[1;33m]\u001b[0m \u001b[1;32mfor\u001b[0m \u001b[0mi\u001b[0m \u001b[1;32min\u001b[0m \u001b[0mindexes\u001b[0m\u001b[1;33m]\u001b[0m\u001b[1;33m,\u001b[0m\u001b[1;33m\u001b[0m\u001b[0m\n\u001b[0;32m    339\u001b[0m                      \u001b[1;33m[\u001b[0m\u001b[0mself\u001b[0m\u001b[1;33m.\u001b[0m\u001b[0magent\u001b[0m\u001b[1;33m.\u001b[0m\u001b[0mwinners\u001b[0m\u001b[1;33m[\u001b[0m\u001b[0mi\u001b[0m\u001b[1;33m]\u001b[0m \u001b[1;32mfor\u001b[0m \u001b[0mi\u001b[0m \u001b[1;32min\u001b[0m \u001b[0mindexes\u001b[0m\u001b[1;33m]\u001b[0m\u001b[1;33m,\u001b[0m\u001b[1;33m\u001b[0m\u001b[0m\n\u001b[1;32m--> 340\u001b[1;33m                      **kwargs)\n\u001b[0m\u001b[0;32m    341\u001b[0m \u001b[1;33m\u001b[0m\u001b[0m\n\u001b[0;32m    342\u001b[0m     def offline(self, states = None, policies = None, winners = None, batch_size = None,\n",
      "\u001b[1;32m~\\Git\\Deep-Notakto\\deepnotakto\\agents\\qtree.py\u001b[0m in \u001b[0;36moffline\u001b[1;34m(self, states, policies, winners, batch_size, epochs, learn_rate, rotate, rotate_live)\u001b[0m\n\u001b[0;32m    376\u001b[0m                     \u001b[0mbs\u001b[0m\u001b[1;33m,\u001b[0m \u001b[0mbp\u001b[0m\u001b[1;33m,\u001b[0m \u001b[0mbw\u001b[0m \u001b[1;33m=\u001b[0m \u001b[0mself\u001b[0m\u001b[1;33m.\u001b[0m\u001b[0mget_rotations\u001b[0m\u001b[1;33m(\u001b[0m\u001b[0mbs\u001b[0m\u001b[1;33m,\u001b[0m \u001b[0mbp\u001b[0m\u001b[1;33m,\u001b[0m \u001b[0mbw\u001b[0m\u001b[1;33m)\u001b[0m\u001b[1;33m\u001b[0m\u001b[0m\n\u001b[0;32m    377\u001b[0m                 \u001b[1;31m# Get the states and targets for the indicies in the batch and update\u001b[0m\u001b[1;33m\u001b[0m\u001b[1;33m\u001b[0m\u001b[0m\n\u001b[1;32m--> 378\u001b[1;33m                 \u001b[0msummary\u001b[0m \u001b[1;33m=\u001b[0m \u001b[0mself\u001b[0m\u001b[1;33m.\u001b[0m\u001b[0magent\u001b[0m\u001b[1;33m.\u001b[0m\u001b[0mupdate\u001b[0m\u001b[1;33m(\u001b[0m\u001b[0mbs\u001b[0m\u001b[1;33m,\u001b[0m \u001b[0mbp\u001b[0m\u001b[1;33m,\u001b[0m \u001b[0mbw\u001b[0m\u001b[1;33m,\u001b[0m \u001b[0mlearn_rate\u001b[0m\u001b[1;33m)\u001b[0m\u001b[1;33m\u001b[0m\u001b[0m\n\u001b[0m\u001b[0;32m    379\u001b[0m             \u001b[1;31m# Record if Tensorboard recording enabled\u001b[0m\u001b[1;33m\u001b[0m\u001b[1;33m\u001b[0m\u001b[0m\n\u001b[0;32m    380\u001b[0m             \u001b[1;32mif\u001b[0m \u001b[0mself\u001b[0m\u001b[1;33m.\u001b[0m\u001b[0mrecord\u001b[0m \u001b[1;32mand\u001b[0m \u001b[1;33m(\u001b[0m\u001b[0mself\u001b[0m\u001b[1;33m.\u001b[0m\u001b[0miteration\u001b[0m \u001b[1;33m%\u001b[0m \u001b[0mself\u001b[0m\u001b[1;33m.\u001b[0m\u001b[0mtensorboard_interval\u001b[0m \u001b[1;33m==\u001b[0m \u001b[1;36m0\u001b[0m\u001b[1;33m)\u001b[0m\u001b[0;31m \u001b[0m\u001b[0;31m\\\u001b[0m\u001b[1;33m\u001b[0m\u001b[0m\n",
      "\u001b[1;32m~\\Git\\Deep-Notakto\\deepnotakto\\agents\\qtree.py\u001b[0m in \u001b[0;36mupdate\u001b[1;34m(self, states, probs, winners, learn_rate)\u001b[0m\n\u001b[0;32m    171\u001b[0m         \u001b[1;31m# Optimize the network and return the tensorboard summary information\u001b[0m\u001b[1;33m\u001b[0m\u001b[1;33m\u001b[0m\u001b[0m\n\u001b[0;32m    172\u001b[0m         \u001b[1;31m#print(self.session.run(self.loss, feed_dict = feed_dict))\u001b[0m\u001b[1;33m\u001b[0m\u001b[1;33m\u001b[0m\u001b[0m\n\u001b[1;32m--> 173\u001b[1;33m         \u001b[1;32mreturn\u001b[0m \u001b[0mself\u001b[0m\u001b[1;33m.\u001b[0m\u001b[0msession\u001b[0m\u001b[1;33m.\u001b[0m\u001b[0mrun\u001b[0m\u001b[1;33m(\u001b[0m\u001b[1;33m[\u001b[0m\u001b[0mself\u001b[0m\u001b[1;33m.\u001b[0m\u001b[0msummary_op\u001b[0m\u001b[1;33m,\u001b[0m \u001b[0mself\u001b[0m\u001b[1;33m.\u001b[0m\u001b[0mupdate_op\u001b[0m\u001b[1;33m]\u001b[0m\u001b[1;33m,\u001b[0m \u001b[0mfeed_dict\u001b[0m \u001b[1;33m=\u001b[0m \u001b[0mfeed_dict\u001b[0m\u001b[1;33m)\u001b[0m\u001b[1;33m[\u001b[0m\u001b[1;36m0\u001b[0m\u001b[1;33m]\u001b[0m\u001b[1;33m\u001b[0m\u001b[0m\n\u001b[0m\u001b[0;32m    174\u001b[0m \u001b[1;33m\u001b[0m\u001b[0m\n\u001b[0;32m    175\u001b[0m     \u001b[1;32mdef\u001b[0m \u001b[0msave_as_prob_model\u001b[0m\u001b[1;33m(\u001b[0m\u001b[0mself\u001b[0m\u001b[1;33m,\u001b[0m \u001b[0mname\u001b[0m\u001b[1;33m)\u001b[0m\u001b[1;33m:\u001b[0m\u001b[1;33m\u001b[0m\u001b[0m\n",
      "\u001b[1;32m~\\Anaconda3\\envs\\Deep-Notakto\\lib\\site-packages\\tensorflow\\python\\client\\session.py\u001b[0m in \u001b[0;36mrun\u001b[1;34m(self, fetches, feed_dict, options, run_metadata)\u001b[0m\n\u001b[0;32m    887\u001b[0m     \u001b[1;32mtry\u001b[0m\u001b[1;33m:\u001b[0m\u001b[1;33m\u001b[0m\u001b[0m\n\u001b[0;32m    888\u001b[0m       result = self._run(None, fetches, feed_dict, options_ptr,\n\u001b[1;32m--> 889\u001b[1;33m                          run_metadata_ptr)\n\u001b[0m\u001b[0;32m    890\u001b[0m       \u001b[1;32mif\u001b[0m \u001b[0mrun_metadata\u001b[0m\u001b[1;33m:\u001b[0m\u001b[1;33m\u001b[0m\u001b[0m\n\u001b[0;32m    891\u001b[0m         \u001b[0mproto_data\u001b[0m \u001b[1;33m=\u001b[0m \u001b[0mtf_session\u001b[0m\u001b[1;33m.\u001b[0m\u001b[0mTF_GetBuffer\u001b[0m\u001b[1;33m(\u001b[0m\u001b[0mrun_metadata_ptr\u001b[0m\u001b[1;33m)\u001b[0m\u001b[1;33m\u001b[0m\u001b[0m\n",
      "\u001b[1;32m~\\Anaconda3\\envs\\Deep-Notakto\\lib\\site-packages\\tensorflow\\python\\client\\session.py\u001b[0m in \u001b[0;36m_run\u001b[1;34m(self, handle, fetches, feed_dict, options, run_metadata)\u001b[0m\n\u001b[0;32m   1118\u001b[0m     \u001b[1;32mif\u001b[0m \u001b[0mfinal_fetches\u001b[0m \u001b[1;32mor\u001b[0m \u001b[0mfinal_targets\u001b[0m \u001b[1;32mor\u001b[0m \u001b[1;33m(\u001b[0m\u001b[0mhandle\u001b[0m \u001b[1;32mand\u001b[0m \u001b[0mfeed_dict_tensor\u001b[0m\u001b[1;33m)\u001b[0m\u001b[1;33m:\u001b[0m\u001b[1;33m\u001b[0m\u001b[0m\n\u001b[0;32m   1119\u001b[0m       results = self._do_run(handle, final_targets, final_fetches,\n\u001b[1;32m-> 1120\u001b[1;33m                              feed_dict_tensor, options, run_metadata)\n\u001b[0m\u001b[0;32m   1121\u001b[0m     \u001b[1;32melse\u001b[0m\u001b[1;33m:\u001b[0m\u001b[1;33m\u001b[0m\u001b[0m\n\u001b[0;32m   1122\u001b[0m       \u001b[0mresults\u001b[0m \u001b[1;33m=\u001b[0m \u001b[1;33m[\u001b[0m\u001b[1;33m]\u001b[0m\u001b[1;33m\u001b[0m\u001b[0m\n",
      "\u001b[1;32m~\\Anaconda3\\envs\\Deep-Notakto\\lib\\site-packages\\tensorflow\\python\\client\\session.py\u001b[0m in \u001b[0;36m_do_run\u001b[1;34m(self, handle, target_list, fetch_list, feed_dict, options, run_metadata)\u001b[0m\n\u001b[0;32m   1315\u001b[0m     \u001b[1;32mif\u001b[0m \u001b[0mhandle\u001b[0m \u001b[1;32mis\u001b[0m \u001b[1;32mNone\u001b[0m\u001b[1;33m:\u001b[0m\u001b[1;33m\u001b[0m\u001b[0m\n\u001b[0;32m   1316\u001b[0m       return self._do_call(_run_fn, self._session, feeds, fetches, targets,\n\u001b[1;32m-> 1317\u001b[1;33m                            options, run_metadata)\n\u001b[0m\u001b[0;32m   1318\u001b[0m     \u001b[1;32melse\u001b[0m\u001b[1;33m:\u001b[0m\u001b[1;33m\u001b[0m\u001b[0m\n\u001b[0;32m   1319\u001b[0m       \u001b[1;32mreturn\u001b[0m \u001b[0mself\u001b[0m\u001b[1;33m.\u001b[0m\u001b[0m_do_call\u001b[0m\u001b[1;33m(\u001b[0m\u001b[0m_prun_fn\u001b[0m\u001b[1;33m,\u001b[0m \u001b[0mself\u001b[0m\u001b[1;33m.\u001b[0m\u001b[0m_session\u001b[0m\u001b[1;33m,\u001b[0m \u001b[0mhandle\u001b[0m\u001b[1;33m,\u001b[0m \u001b[0mfeeds\u001b[0m\u001b[1;33m,\u001b[0m \u001b[0mfetches\u001b[0m\u001b[1;33m)\u001b[0m\u001b[1;33m\u001b[0m\u001b[0m\n",
      "\u001b[1;32m~\\Anaconda3\\envs\\Deep-Notakto\\lib\\site-packages\\tensorflow\\python\\client\\session.py\u001b[0m in \u001b[0;36m_do_call\u001b[1;34m(self, fn, *args)\u001b[0m\n\u001b[0;32m   1334\u001b[0m         \u001b[1;32mexcept\u001b[0m \u001b[0mKeyError\u001b[0m\u001b[1;33m:\u001b[0m\u001b[1;33m\u001b[0m\u001b[0m\n\u001b[0;32m   1335\u001b[0m           \u001b[1;32mpass\u001b[0m\u001b[1;33m\u001b[0m\u001b[0m\n\u001b[1;32m-> 1336\u001b[1;33m       \u001b[1;32mraise\u001b[0m \u001b[0mtype\u001b[0m\u001b[1;33m(\u001b[0m\u001b[0me\u001b[0m\u001b[1;33m)\u001b[0m\u001b[1;33m(\u001b[0m\u001b[0mnode_def\u001b[0m\u001b[1;33m,\u001b[0m \u001b[0mop\u001b[0m\u001b[1;33m,\u001b[0m \u001b[0mmessage\u001b[0m\u001b[1;33m)\u001b[0m\u001b[1;33m\u001b[0m\u001b[0m\n\u001b[0m\u001b[0;32m   1337\u001b[0m \u001b[1;33m\u001b[0m\u001b[0m\n\u001b[0;32m   1338\u001b[0m   \u001b[1;32mdef\u001b[0m \u001b[0m_extend_graph\u001b[0m\u001b[1;33m(\u001b[0m\u001b[0mself\u001b[0m\u001b[1;33m)\u001b[0m\u001b[1;33m:\u001b[0m\u001b[1;33m\u001b[0m\u001b[0m\n",
      "\u001b[1;31mInvalidArgumentError\u001b[0m: Inf or NaN values : Tensor had NaN values\n\t [[Node: params/FiniteVerify/CheckNumerics = CheckNumerics[T=DT_FLOAT, _class=[\"loc:@params/loss\"], message=\"Inf or NaN values\", _device=\"/job:localhost/replica:0/task:0/device:CPU:0\"](params/loss)]]\n\nCaused by op 'params/FiniteVerify/CheckNumerics', defined at:\n  File \"C:\\Users\\abeol\\Anaconda3\\envs\\Deep-Notakto\\lib\\runpy.py\", line 193, in _run_module_as_main\n    \"__main__\", mod_spec)\n  File \"C:\\Users\\abeol\\Anaconda3\\envs\\Deep-Notakto\\lib\\runpy.py\", line 85, in _run_code\n    exec(code, run_globals)\n  File \"C:\\Users\\abeol\\Anaconda3\\envs\\Deep-Notakto\\lib\\site-packages\\ipykernel_launcher.py\", line 16, in <module>\n    app.launch_new_instance()\n  File \"C:\\Users\\abeol\\Anaconda3\\envs\\Deep-Notakto\\lib\\site-packages\\traitlets\\config\\application.py\", line 658, in launch_instance\n    app.start()\n  File \"C:\\Users\\abeol\\Anaconda3\\envs\\Deep-Notakto\\lib\\site-packages\\ipykernel\\kernelapp.py\", line 477, in start\n    ioloop.IOLoop.instance().start()\n  File \"C:\\Users\\abeol\\Anaconda3\\envs\\Deep-Notakto\\lib\\site-packages\\zmq\\eventloop\\ioloop.py\", line 177, in start\n    super(ZMQIOLoop, self).start()\n  File \"C:\\Users\\abeol\\Anaconda3\\envs\\Deep-Notakto\\lib\\site-packages\\tornado\\ioloop.py\", line 888, in start\n    handler_func(fd_obj, events)\n  File \"C:\\Users\\abeol\\Anaconda3\\envs\\Deep-Notakto\\lib\\site-packages\\tornado\\stack_context.py\", line 277, in null_wrapper\n    return fn(*args, **kwargs)\n  File \"C:\\Users\\abeol\\Anaconda3\\envs\\Deep-Notakto\\lib\\site-packages\\zmq\\eventloop\\zmqstream.py\", line 440, in _handle_events\n    self._handle_recv()\n  File \"C:\\Users\\abeol\\Anaconda3\\envs\\Deep-Notakto\\lib\\site-packages\\zmq\\eventloop\\zmqstream.py\", line 472, in _handle_recv\n    self._run_callback(callback, msg)\n  File \"C:\\Users\\abeol\\Anaconda3\\envs\\Deep-Notakto\\lib\\site-packages\\zmq\\eventloop\\zmqstream.py\", line 414, in _run_callback\n    callback(*args, **kwargs)\n  File \"C:\\Users\\abeol\\Anaconda3\\envs\\Deep-Notakto\\lib\\site-packages\\tornado\\stack_context.py\", line 277, in null_wrapper\n    return fn(*args, **kwargs)\n  File \"C:\\Users\\abeol\\Anaconda3\\envs\\Deep-Notakto\\lib\\site-packages\\ipykernel\\kernelbase.py\", line 283, in dispatcher\n    return self.dispatch_shell(stream, msg)\n  File \"C:\\Users\\abeol\\Anaconda3\\envs\\Deep-Notakto\\lib\\site-packages\\ipykernel\\kernelbase.py\", line 235, in dispatch_shell\n    handler(stream, idents, msg)\n  File \"C:\\Users\\abeol\\Anaconda3\\envs\\Deep-Notakto\\lib\\site-packages\\ipykernel\\kernelbase.py\", line 399, in execute_request\n    user_expressions, allow_stdin)\n  File \"C:\\Users\\abeol\\Anaconda3\\envs\\Deep-Notakto\\lib\\site-packages\\ipykernel\\ipkernel.py\", line 196, in do_execute\n    res = shell.run_cell(code, store_history=store_history, silent=silent)\n  File \"C:\\Users\\abeol\\Anaconda3\\envs\\Deep-Notakto\\lib\\site-packages\\ipykernel\\zmqshell.py\", line 533, in run_cell\n    return super(ZMQInteractiveShell, self).run_cell(*args, **kwargs)\n  File \"C:\\Users\\abeol\\Anaconda3\\envs\\Deep-Notakto\\lib\\site-packages\\IPython\\core\\interactiveshell.py\", line 2698, in run_cell\n    interactivity=interactivity, compiler=compiler, result=result)\n  File \"C:\\Users\\abeol\\Anaconda3\\envs\\Deep-Notakto\\lib\\site-packages\\IPython\\core\\interactiveshell.py\", line 2802, in run_ast_nodes\n    if self.run_code(code, result):\n  File \"C:\\Users\\abeol\\Anaconda3\\envs\\Deep-Notakto\\lib\\site-packages\\IPython\\core\\interactiveshell.py\", line 2862, in run_code\n    exec(code_obj, self.user_global_ns, self.user_ns)\n  File \"<ipython-input-12-dcc950ae6a05>\", line 1, in <module>\n    agent = util.load_agent(\"agents/saves/new4_1.npz\", qtree.QTree)\n  File \"C:\\Users\\abeol\\Git\\Deep-Notakto\\deepnotakto\\util.py\", line 135, in load_agent\n    return CLASS(**loaded)\n  File \"C:\\Users\\abeol\\Git\\Deep-Notakto\\deepnotakto\\agents\\qtree.py\", line 35, in __init__\n    iterations, params, max_queue, None, None, **kwargs)\n  File \"..\\deepnotakto\\agents\\Q.py\", line 83, in __init__\n    self.initialize(params = params, iterations = iterations, **kwargs)\n  File \"C:\\Users\\abeol\\Git\\Deep-Notakto\\deepnotakto\\agents\\qtree.py\", line 72, in initialize\n    self._init_training_vars()\n  File \"C:\\Users\\abeol\\Git\\Deep-Notakto\\deepnotakto\\agents\\qtree.py\", line 97, in _init_training_vars\n    self.loss = self._get_loss_function()\n  File \"C:\\Users\\abeol\\Git\\Deep-Notakto\\deepnotakto\\agents\\qtree.py\", line 128, in _get_loss_function\n    msg = \"Inf or NaN values\")\n  File \"C:\\Users\\abeol\\Anaconda3\\envs\\Deep-Notakto\\lib\\site-packages\\tensorflow\\python\\ops\\numerics.py\", line 42, in verify_tensor_all_finite\n    verify_input = array_ops.check_numerics(t, message=msg)\n  File \"C:\\Users\\abeol\\Anaconda3\\envs\\Deep-Notakto\\lib\\site-packages\\tensorflow\\python\\ops\\gen_array_ops.py\", line 568, in check_numerics\n    \"CheckNumerics\", tensor=tensor, message=message, name=name)\n  File \"C:\\Users\\abeol\\Anaconda3\\envs\\Deep-Notakto\\lib\\site-packages\\tensorflow\\python\\framework\\op_def_library.py\", line 787, in _apply_op_helper\n    op_def=op_def)\n  File \"C:\\Users\\abeol\\Anaconda3\\envs\\Deep-Notakto\\lib\\site-packages\\tensorflow\\python\\framework\\ops.py\", line 2956, in create_op\n    op_def=op_def)\n  File \"C:\\Users\\abeol\\Anaconda3\\envs\\Deep-Notakto\\lib\\site-packages\\tensorflow\\python\\framework\\ops.py\", line 1470, in __init__\n    self._traceback = self._graph._extract_stack()  # pylint: disable=protected-access\n\nInvalidArgumentError (see above for traceback): Inf or NaN values : Tensor had NaN values\n\t [[Node: params/FiniteVerify/CheckNumerics = CheckNumerics[T=DT_FLOAT, _class=[\"loc:@params/loss\"], message=\"Inf or NaN values\", _device=\"/job:localhost/replica:0/task:0/device:CPU:0\"](params/loss)]]\n"
     ]
    }
   ],
   "source": [
    "agent.self_play(1, 20, train = True, save_every = 1, save_name = \"agents/saves/new4_1.npz\")"
   ]
  },
  {
   "cell_type": "code",
   "execution_count": null,
   "metadata": {},
   "outputs": [],
   "source": [
    "e = Env(4)\n",
    "r = RandomAgent(e)\n",
    "h = Human()\n",
    "gui = GameWithConfidences(e, r, agent, -1, show_confidences = True)"
   ]
  },
  {
   "cell_type": "code",
   "execution_count": null,
   "metadata": {
    "collapsed": true
   },
   "outputs": [],
   "source": [
    "x = np.array([\n",
    "    [0, 0, 1, 0],\n",
    "    [1, 0, 1, 1],\n",
    "    [1, 0, 1, 0],\n",
    "    [0, 1, 0, 0]\n",
    "])\n",
    "print(\"PLAYER #{}\".format(np.int32((np.sum(x) % 2) + 1)))\n",
    "print(agent.value(x))\n",
    "print(np.round(agent.get_Q(x), 2))"
   ]
  },
  {
   "cell_type": "code",
   "execution_count": null,
   "metadata": {
    "collapsed": true
   },
   "outputs": [],
   "source": [
    "print(a.loss.eval(session = a.session, feed_dict = {\n",
    "    a.x: [i1.reshape(-1), i2.reshape(-1)], a.prob_targets: [o1, o2], a.winner_targets: [[1, -1]]\n",
    "}))\n",
    "val = (1 - a.value(i1)) ** 2 + (-1 - a.value(i2)) ** 2\n",
    "pol = np.dot(o1, np.log(a.policy(i1))) + np.dot(o2, np.log(a.policy(i2)))\n",
    "print(val - pol)"
   ]
  },
  {
   "cell_type": "code",
   "execution_count": null,
   "metadata": {
    "collapsed": true
   },
   "outputs": [],
   "source": [
    "i1 = np.identity(3)\n",
    "o1 = np.ones([3, 3])\n",
    "i2 = np.random.binomial(1, .4, size = [3, 3])\n",
    "o2 = util.softmax(np.random.beta(2, 2, size = [3,3]))"
   ]
  },
  {
   "cell_type": "code",
   "execution_count": null,
   "metadata": {
    "collapsed": true
   },
   "outputs": [],
   "source": [
    "_ = [reload(i) for i in (ts, qtree, util)]"
   ]
  },
  {
   "cell_type": "code",
   "execution_count": null,
   "metadata": {
    "collapsed": true
   },
   "outputs": [],
   "source": [
    "params = {\"learn_rate\": .1, \"rotate\": True, \"train_live\": True, \"rotate_live\": True}\n",
    "a = activated.TanhHidden([9, 100, 100, 9], params = params)"
   ]
  },
  {
   "cell_type": "code",
   "execution_count": null,
   "metadata": {
    "collapsed": true
   },
   "outputs": [],
   "source": [
    "i1 = util.create_board(4)\n",
    "o1 = util.create_board(0)\n",
    "i2 = util.create_board([2, 5])\n",
    "o2 = util.create_board([8])"
   ]
  },
  {
   "cell_type": "code",
   "execution_count": null,
   "metadata": {},
   "outputs": [],
   "source": [
    "print(a.value(i1))\n",
    "print(a.get_Q(i1))\n",
    "print()\n",
    "print(a.value(i2))\n",
    "print(a.get_Q(i2))"
   ]
  },
  {
   "cell_type": "code",
   "execution_count": null,
   "metadata": {},
   "outputs": [],
   "source": [
    "pre_val_1 = a.value(i1)\n",
    "pre_val_2 = a.value(i2)\n",
    "pre_policy_1 = a.get_Q(i1)\n",
    "pre_policy_2 = a.get_Q(i2)\n",
    "for _ in range(100):\n",
    "    a.trainer.offline([i1, i2], [o1, o2], [1, -1], batch_size = 2)\n",
    "post_val_1 = a.value(i1)\n",
    "post_val_2 = a.value(i2)\n",
    "post_policy_1 = a.get_Q(i1)\n",
    "post_policy_2 = a.get_Q(i2)\n",
    "print(\"Value Differences : [{}, {}]\".format(post_val_1 - pre_val_1, post_val_2 - pre_val_2))\n",
    "print(\"Policy Differences\\n{}\\n{}\".format(util._clean(post_policy_1 - pre_policy_1, .01), util._clean(post_policy_2 - pre_policy_2, .01)))"
   ]
  },
  {
   "cell_type": "code",
   "execution_count": null,
   "metadata": {
    "collapsed": true
   },
   "outputs": [],
   "source": []
  }
 ],
 "metadata": {
  "kernelspec": {
   "display_name": "Python 3",
   "language": "python",
   "name": "python3"
  },
  "language_info": {
   "codemirror_mode": {
    "name": "ipython",
    "version": 3
   },
   "file_extension": ".py",
   "mimetype": "text/x-python",
   "name": "python",
   "nbconvert_exporter": "python",
   "pygments_lexer": "ipython3",
   "version": "3.6.1"
  }
 },
 "nbformat": 4,
 "nbformat_minor": 2
}
