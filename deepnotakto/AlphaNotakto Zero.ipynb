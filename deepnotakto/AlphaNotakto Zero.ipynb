{
 "cells": [
  {
   "cell_type": "code",
   "execution_count": 1,
   "metadata": {
    "collapsed": true,
    "scrolled": true
   },
   "outputs": [],
   "source": [
    "import sys\n",
    "sys.path.insert(0, '..')\n",
    "import treesearch as ts\n",
    "import agents.qtree as qtree\n",
    "from environment import Env\n",
    "import numpy as np\n",
    "from importlib import reload\n",
    "from util import rotate, array_in_list\n",
    "from copy import copy"
   ]
  },
  {
   "cell_type": "code",
   "execution_count": 2,
   "metadata": {
    "collapsed": true
   },
   "outputs": [],
   "source": [
    "%load_ext autoreload\n",
    "%autoreload 2"
   ]
  },
  {
   "cell_type": "code",
   "execution_count": 26,
   "metadata": {},
   "outputs": [],
   "source": [
    "agent = qtree.QTree([9, 9], name = \"QTreeTrials\")\n",
    "state =  np.array([\n",
    "    [0, 0, 0],\n",
    "    [0, 0, 0],\n",
    "    [0, 0, 0]\n",
    "])\n",
    "root = ts.GuidedNotaktoNode(state = state, network = agent)\n",
    "#root = ts.NotaktoNode(state)\n",
    "e = Env(3)\n",
    "ts.guidedsearch(root, iterations = 4)\n",
    "#n = ts.self_play(root, iterations = 10)\n",
    "#print(n)"
   ]
  },
  {
   "cell_type": "code",
   "execution_count": 29,
   "metadata": {
    "collapsed": true
   },
   "outputs": [],
   "source": [
    "ts.guidedsearch(root, iterations = 100)"
   ]
  },
  {
   "cell_type": "code",
   "execution_count": 30,
   "metadata": {},
   "outputs": [
    {
     "name": "stdout",
     "output_type": "stream",
     "text": [
      "Node (Player 1, Winner 0)\n",
      "Visits : 196, Total Value : 114.776395327, and Prior : 0.111111\n",
      "Upper Confidence Bound : 0.596760796757\n",
      "State:  [[0 1 0]\n",
      "\t [0 0 0]\n",
      "\t [0 0 0]]\n",
      "\n",
      "Node (Player 1, Winner 0)\n",
      "Visits : 4, Total Value : 0.530565522611, and Prior : 0.111111\n",
      "Upper Confidence Bound : 0.195495317227\n",
      "State:  [[0 0 0]\n",
      "\t [0 1 0]\n",
      "\t [0 0 0]]\n",
      "\n",
      "Node (Player 1, Winner 0)\n",
      "Visits : 4, Total Value : -0.0346848294139, and Prior : 0.111111\n",
      "Upper Confidence Bound : 0.0541827292203\n",
      "State:  [[1 0 0]\n",
      "\t [0 0 0]\n",
      "\t [0 0 0]]\n",
      "\n"
     ]
    }
   ],
   "source": [
    "root.display()"
   ]
  },
  {
   "cell_type": "code",
   "execution_count": 18,
   "metadata": {},
   "outputs": [
    {
     "name": "stdout",
     "output_type": "stream",
     "text": [
      "Node (Player 1, Winner 0)\n",
      "Visits : 1, Total Value : -1, and Prior : 0.131468\n",
      "Upper Confidence Bound : -0.907038097622\n",
      "State:  [[1 1 0]\n",
      "\t [0 1 0]\n",
      "\t [0 0 0]]\n",
      "\n",
      "Node (Player 1, Winner 0)\n",
      "Visits : 4, Total Value : 2, and Prior : 0.0891321\n",
      "Upper Confidence Bound : 0.550420746918\n",
      "State:  [[0 1 0]\n",
      "\t [1 1 0]\n",
      "\t [0 0 0]]\n",
      "\n",
      "Node (Player 1, Winner 0)\n",
      "Visits : 107, Total Value : 107, and Prior : 0.0968373\n",
      "Upper Confidence Bound : 1.01311673133\n",
      "State:  [[0 1 0]\n",
      "\t [0 1 0]\n",
      "\t [1 0 0]]\n",
      "\n"
     ]
    }
   ],
   "source": [
    "root[0][0].display()"
   ]
  },
  {
   "cell_type": "code",
   "execution_count": null,
   "metadata": {},
   "outputs": [],
   "source": [
    "c = root[-1]"
   ]
  },
  {
   "cell_type": "code",
   "execution_count": null,
   "metadata": {},
   "outputs": [],
   "source": [
    "(c.w / c.n)"
   ]
  },
  {
   "cell_type": "code",
   "execution_count": null,
   "metadata": {
    "collapsed": true
   },
   "outputs": [],
   "source": []
  }
 ],
 "metadata": {
  "kernelspec": {
   "display_name": "Python 3",
   "language": "python",
   "name": "python3"
  },
  "language_info": {
   "codemirror_mode": {
    "name": "ipython",
    "version": 3
   },
   "file_extension": ".py",
   "mimetype": "text/x-python",
   "name": "python",
   "nbconvert_exporter": "python",
   "pygments_lexer": "ipython3",
   "version": "3.6.1"
  }
 },
 "nbformat": 4,
 "nbformat_minor": 2
}
