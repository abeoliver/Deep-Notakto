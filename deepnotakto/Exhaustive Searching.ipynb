{
 "cells": [
  {
   "cell_type": "code",
   "execution_count": 1,
   "metadata": {
    "collapsed": true
   },
   "outputs": [],
   "source": [
    "import numpy as np\n",
    "from copy import copy"
   ]
  },
  {
   "cell_type": "code",
   "execution_count": 19,
   "metadata": {
    "collapsed": true
   },
   "outputs": [],
   "source": [
    "def forced(b):\n",
    "    # If all are losses, a loss is forced\n",
    "    for r in action_space(b):\n",
    "        if not winner(np.add(b, r)):\n",
    "            return False\n",
    "    return True"
   ]
  },
  {
   "cell_type": "code",
   "execution_count": 20,
   "metadata": {
    "collapsed": true
   },
   "outputs": [],
   "source": [
    "def winner(b):\n",
    "    s = b.shape[0]\n",
    "    for row in b:\n",
    "        if np.sum(row) == s: return True\n",
    "    for col in b.T:\n",
    "        if np.sum(col) == s: return True\n",
    "    if np.sum(b * np.identity(s)) >= s: return True\n",
    "    if np.sum(b * np.flip(np.identity(s), 1)) >= s: return True\n",
    "    # Otherwise game is not over\n",
    "    return False"
   ]
  },
  {
   "cell_type": "code",
   "execution_count": 21,
   "metadata": {
    "collapsed": true
   },
   "outputs": [],
   "source": [
    "def action_space(b, remove_iso = True):\n",
    "    remaining = []\n",
    "    for i in range(b.shape[0]):\n",
    "        for j in range(b.shape[1]):\n",
    "            if b[i, j] == 0:\n",
    "                z = np.zeros(b.shape, dtype = np.int32)\n",
    "                z[i, j] = 1\n",
    "                if remove_iso:\n",
    "                    if len(remaining) > 0:\n",
    "                        if array_in_list(z, remaining):\n",
    "                            continue\n",
    "                    for _ in range(4):\n",
    "                        if not array_in_list(z, remaining):\n",
    "                            remaining.append(z)\n",
    "                        if not array_in_list(z.T, remaining):\n",
    "                            remaining.append(z.T)\n",
    "                        z = rotate(z)\n",
    "                # Add move to returning list\n",
    "                remaining.append(z)\n",
    "                    \n",
    "    return remaining"
   ]
  },
  {
   "cell_type": "code",
   "execution_count": 22,
   "metadata": {},
   "outputs": [],
   "source": [
    "def least_forced_from_space(b, n = 0):\n",
    "    if winner(b):\n",
    "        return None\n",
    "    forced_list = []\n",
    "    for r in action_space(b, remove_iso = n < 2):\n",
    "        a = b + r\n",
    "        if winner(a): continue\n",
    "        elif forced(a):\n",
    "            forced_list.append(a)\n",
    "        p = least_forced_from_space(a, n + 1)\n",
    "        if type(p) != type(None): forced_list.append(p)\n",
    "    if forced_list == []:\n",
    "        return None\n",
    "    return min(forced_list, key = lambda x: np.sum(x))      "
   ]
  },
  {
   "cell_type": "code",
   "execution_count": 25,
   "metadata": {},
   "outputs": [
    {
     "name": "stdout",
     "output_type": "stream",
     "text": [
      "34.8 s ± 3.9 s per loop (mean ± std. dev. of 7 runs, 1 loop each)\n"
     ]
    }
   ],
   "source": [
    "q = np.array([\n",
    "    [0, 0, 0],\n",
    "    [0, 0, 0],\n",
    "    [0, 0, 0],\n",
    "])\n",
    "%timeit least_forced_from_space(q)"
   ]
  },
  {
   "cell_type": "code",
   "execution_count": 23,
   "metadata": {
    "collapsed": true
   },
   "outputs": [],
   "source": [
    "def array_in_list(ar, l):\n",
    "    for i in l:\n",
    "        if np.array_equal(ar, i):\n",
    "            return True\n",
    "    return False"
   ]
  },
  {
   "cell_type": "code",
   "execution_count": 24,
   "metadata": {
    "collapsed": true
   },
   "outputs": [],
   "source": [
    "def rotate(x):\n",
    "    \"\"\"Rotates an array counter-clockwise\"\"\"\n",
    "    n = np.zeros(x.shape, x.dtype)\n",
    "    for i in range(x.shape[0]):\n",
    "        n[:, i] = x[i][::-1]\n",
    "    return n"
   ]
  },
  {
   "cell_type": "code",
   "execution_count": null,
   "metadata": {
    "collapsed": true
   },
   "outputs": [],
   "source": []
  }
 ],
 "metadata": {
  "kernelspec": {
   "display_name": "Python 3",
   "language": "python",
   "name": "python3"
  },
  "language_info": {
   "codemirror_mode": {
    "name": "ipython",
    "version": 3
   },
   "file_extension": ".py",
   "mimetype": "text/x-python",
   "name": "python",
   "nbconvert_exporter": "python",
   "pygments_lexer": "ipython3",
   "version": "3.6.1"
  }
 },
 "nbformat": 4,
 "nbformat_minor": 2
}
