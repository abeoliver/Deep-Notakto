{
 "cells": [
  {
   "cell_type": "code",
   "execution_count": 4,
   "metadata": {
    "colab": {
     "autoexec": {
      "startup": false,
      "wait_interval": 0
     }
    },
    "colab_type": "code",
    "collapsed": true,
    "id": "98cXNY9RBKgV"
   },
   "outputs": [],
   "source": [
    "# Import TensorFlow.\n",
    "import tensorflow as tf\n",
    "#import tensorflow.contrib.eager as tfe\n",
    "import numpy as np\n",
    "import matplotlib.pyplot as plt"
   ]
  },
  {
   "cell_type": "code",
   "execution_count": 5,
   "metadata": {
    "colab": {
     "autoexec": {
      "startup": false,
      "wait_interval": 0
     }
    },
    "colab_type": "code",
    "collapsed": true,
    "id": "O9r2SrUBINy9"
   },
   "outputs": [],
   "source": [
    "# Create Session\n",
    "sess = tf.InteractiveSession()"
   ]
  },
  {
   "cell_type": "code",
   "execution_count": 158,
   "metadata": {
    "colab": {
     "autoexec": {
      "startup": false,
      "wait_interval": 0
     }
    },
    "colab_type": "code",
    "id": "pE1TOGa8CLDJ"
   },
   "outputs": [],
   "source": [
    "# Generate data\n",
    "def truth(x):\n",
    "    return x\n",
    "SAMPLES = 300\n",
    "training_inputs = tf.constant(tf.random_normal(shape = [SAMPLES, 1, 2]).eval(session = sess).reshape(-1))\n",
    "noise = tf.constant(tf.random_normal(shape = [SAMPLES, 1, 1], dtype = tf.float32).eval(session = sess))\n",
    "training_labels = truth(training_inputs) + noise"
   ]
  },
  {
   "cell_type": "code",
   "execution_count": 153,
   "metadata": {
    "colab": {
     "autoexec": {
      "startup": false,
      "wait_interval": 0
     }
    },
    "colab_type": "code",
    "id": "_XPSTJMFLGFd"
   },
   "outputs": [],
   "source": [
    "model = tf.keras.models.Sequential()\n",
    "model.add(tf.layers.Dense(100, input_shape = (None, 1)))\n",
    "model.add(tf.keras.layers.Activation('relu'))\n",
    "model.add(tf.layers.Dense(10))\n",
    "model.add(tf.keras.layers.Activation('relu'))\n",
    "model.add(tf.layers.Dense(1))\n",
    "model.compile(optimizer = \"sgd\",\n",
    "             loss = \"mean_squared_error\",\n",
    "             metrics=['accuracy'])"
   ]
  },
  {
   "cell_type": "code",
   "execution_count": 138,
   "metadata": {
    "collapsed": true
   },
   "outputs": [],
   "source": [
    "with sess.as_default():\n",
    "    model.fit(training_inputs.eval(), training_labels.eval(), epochs = 200, verbose = 0)"
   ]
  },
  {
   "cell_type": "code",
   "execution_count": 141,
   "metadata": {
    "colab": {
     "autoexec": {
      "startup": false,
      "wait_interval": 0
     },
     "base_uri": "https://localhost:8080/",
     "height": 347,
     "output_extras": [
      {
       "item_id": 1
      }
     ]
    },
    "colab_type": "code",
    "executionInfo": {
     "elapsed": 1007,
     "status": "ok",
     "timestamp": 1510243699023,
     "user": {
      "displayName": "Abe Oliver",
      "photoUrl": "//lh5.googleusercontent.com/-qOIst_RhN1M/AAAAAAAAAAI/AAAAAAAABaM/8hlyyQ9XY7w/s50-c-k-no/photo.jpg",
      "userId": "107338491499831843140"
     },
     "user_tz": 300
    },
    "id": "w3aZkFgAh_FA",
    "outputId": "6f1f773e-f0d9-4e68-fef5-2002ecc17038"
   },
   "outputs": [
    {
     "data": {
      "image/png": "[encoded data removed]",
      "text/plain": [
       "<matplotlib.figure.Figure at 0x19367d2def0>"
      ]
     },
     "metadata": {},
     "output_type": "display_data"
    }
   ],
   "source": [
    "with sess.as_default():\n",
    "    plt.scatter(training_inputs.eval(), training_labels.eval())\n",
    "    plot_points = np.linspace(-3, 3, 100, dtype = np.float32)\n",
    "    plt.plot(plot_points, truth(plot_points).eval().reshape(-1), c = [0, 1, 0])\n",
    "    plt.plot(plot_points, model.predict(plot_points.reshape([100, 1, 1])).reshape(-1), c = [1, 0, 0])\n",
    "    plt.show()"
   ]
  },
  {
   "cell_type": "code",
   "execution_count": 147,
   "metadata": {
    "colab": {
     "autoexec": {
      "startup": false,
      "wait_interval": 0
     }
    },
    "colab_type": "code",
    "id": "aMyHBHf4Obg3"
   },
   "outputs": [
    {
     "data": {
      "text/plain": [
       "array([[[ nan]]], dtype=float32)"
      ]
     },
     "execution_count": 147,
     "metadata": {},
     "output_type": "execute_result"
    }
   ],
   "source": [
    "model.predict(np.array([[[.2]]]))"
   ]
  },
  {
   "cell_type": "code",
   "execution_count": 164,
   "metadata": {},
   "outputs": [
    {
     "data": {
      "text/plain": [
       "[2, 3]"
      ]
     },
     "execution_count": 164,
     "metadata": {},
     "output_type": "execute_result"
    }
   ],
   "source": [
    "list(range(2, 4))"
   ]
  },
  {
   "cell_type": "code",
   "execution_count": null,
   "metadata": {
    "collapsed": true
   },
   "outputs": [],
   "source": []
  }
 ],
 "metadata": {
  "colab": {
   "default_view": {},
   "name": "Eager.ipynb",
   "provenance": [],
   "version": "0.3.2",
   "views": {}
  },
  "kernelspec": {
   "display_name": "Python 3",
   "language": "python",
   "name": "python3"
  },
  "language_info": {
   "codemirror_mode": {
    "name": "ipython",
    "version": 3
   },
   "file_extension": ".py",
   "mimetype": "text/x-python",
   "name": "python",
   "nbconvert_exporter": "python",
   "pygments_lexer": "ipython3",
   "version": "3.6.1"
  }
 },
 "nbformat": 4,
 "nbformat_minor": 1
}
