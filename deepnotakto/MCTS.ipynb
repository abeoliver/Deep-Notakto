{
 "cells": [
  {
   "cell_type": "code",
   "execution_count": 2,
   "metadata": {
    "scrolled": true
   },
   "outputs": [],
   "source": [
    "import sys\n",
    "sys.path.insert(0, '..')\n",
    "import treesearch as ts\n",
    "import agents.qtree as qtree\n",
    "import numpy as np\n",
    "from importlib import reload\n",
    "from util import rotate, array_in_list\n",
    "from copy import copy"
   ]
  },
  {
   "cell_type": "code",
   "execution_count": null,
   "metadata": {
    "collapsed": true
   },
   "outputs": [],
   "source": [
    "%load_ext autoreload\n",
    "%autoreload 2"
   ]
  },
  {
   "cell_type": "code",
   "execution_count": null,
   "metadata": {
    "collapsed": true
   },
   "outputs": [],
   "source": [
    "_ = reload(ts)\n",
    "_ = reload(qtree)"
   ]
  },
  {
   "cell_type": "code",
   "execution_count": null,
   "metadata": {},
   "outputs": [],
   "source": [
    "# root = ts.NotaktoNode(np.zeros([4,4], dtype = np.int32), None, None)\n",
    "e = Env(3)\n",
    "#root = ts.load(\"full.tree\", False)\n",
    "root = ts.NotaktoNode(copy(e.board))\n",
    "root = ts.search(root, iterations = 10)\n",
    "n = ts.self_play(root, iterations = 10)\n",
    "print(n)"
   ]
  },
  {
   "cell_type": "code",
   "execution_count": null,
   "metadata": {},
   "outputs": [],
   "source": [
    "probs = np.array([\n",
    "    [[1, 2, 3],\n",
    "    [4, 5, 6],\n",
    "    [7, 8, 9]],\n",
    "    [[10, 20, 30],\n",
    "    [40, 50, 60],\n",
    "    [70, 80, 90]],\n",
    "    [[100, 200, 300],\n",
    "    [400, 500, 600],\n",
    "    [700, 800, 900]]\n",
    "])\n",
    "winners = np.array([0, 1, 2])"
   ]
  },
  {
   "cell_type": "code",
   "execution_count": null,
   "metadata": {},
   "outputs": [],
   "source": [
    "np.array([a.reshape(-1) for a in probs])"
   ]
  },
  {
   "cell_type": "code",
   "execution_count": null,
   "metadata": {},
   "outputs": [],
   "source": [
    "winners.reshape([1, -1]).T"
   ]
  }
 ],
 "metadata": {
  "kernelspec": {
   "display_name": "Python 3",
   "language": "python",
   "name": "python3"
  },
  "language_info": {
   "codemirror_mode": {
    "name": "ipython",
    "version": 3
   },
   "file_extension": ".py",
   "mimetype": "text/x-python",
   "name": "python",
   "nbconvert_exporter": "python",
   "pygments_lexer": "ipython3",
   "version": "3.6.1"
  }
 },
 "nbformat": 4,
 "nbformat_minor": 2
}
