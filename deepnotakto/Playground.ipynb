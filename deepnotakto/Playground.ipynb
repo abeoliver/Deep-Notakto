{
 "cells": [
  {
   "cell_type": "code",
   "execution_count": 1,
   "metadata": {
    "collapsed": true
   },
   "outputs": [],
   "source": [
    "import numpy as np\n",
    "from copy import copy\n",
    "import tensorflow as tf\n",
    "from importlib import reload\n",
    "from random import randint\n",
    "\n",
    "import environment as env\n",
    "import agent\n",
    "import agents.random_agent as ra\n",
    "import agents.rl_3_no_hidden as rl"
   ]
  },
  {
   "cell_type": "code",
   "execution_count": 60,
   "metadata": {},
   "outputs": [
    {
     "data": {
      "text/plain": [
       "<module 'agents.rl_3_no_hidden' from 'C:\\\\Users\\\\abeol\\\\Git\\\\Deep-Notakto\\\\deepnotakto\\\\agents\\\\rl_3_no_hidden.py'>"
      ]
     },
     "execution_count": 60,
     "metadata": {},
     "output_type": "execute_result"
    }
   ],
   "source": [
    "reload(env)\n",
    "reload(agent)\n",
    "reload(ra)\n",
    "reload(rl)"
   ]
  },
  {
   "cell_type": "code",
   "execution_count": 51,
   "metadata": {},
   "outputs": [
    {
     "name": "stdout",
     "output_type": "stream",
     "text": [
      "Turn #0\n",
      "\n",
      "X O O \n",
      "O O O \n",
      "O O O \n",
      "\n",
      "Turn #1\n",
      "\n",
      "X O O \n",
      "O O X \n",
      "O O O \n",
      "\n",
      "Turn #2\n",
      "\n",
      "X O O \n",
      "O O X \n",
      "O O X \n",
      "\n",
      "Turn #3\n",
      "\n",
      "X X O \n",
      "O O X \n",
      "O O X \n",
      "\n",
      "Turn #4\n",
      "\n",
      "X X O \n",
      "O O X \n",
      "O O X \n",
      "\n",
      "Player attempted illegal move\n",
      "Turn #5\n",
      "\n",
      "X X O \n",
      "O O X \n",
      "O X X \n",
      "\n",
      "Turn #6\n",
      "\n",
      "X X O \n",
      "O O X \n",
      "O X X \n",
      "\n",
      "Player attempted illegal move\n",
      "Turn #7\n",
      "\n",
      "X X O \n",
      "O X X \n",
      "O X X \n",
      "\n",
      "Player 1 Wins!\n"
     ]
    }
   ],
   "source": [
    "e = env.Env(3)\n",
    "a1 = rl.RL3NoHidden()\n",
    "a2 = ra.RandomAgent()\n",
    "e.play_cvc(a1, a2, True)"
   ]
  },
  {
   "cell_type": "code",
   "execution_count": 61,
   "metadata": {},
   "outputs": [
    {
     "name": "stdout",
     "output_type": "stream",
     "text": [
      "\n",
      "O O O O \n",
      "O O O O \n",
      "O O O O \n",
      "O O O O \n",
      "\n",
      "Player 1\n",
      "Next Piece: 1 1\n",
      "\n",
      "X O O O \n",
      "O O O O \n",
      "O O O O \n",
      "O O O O \n",
      "\n",
      "Player 2\n",
      "Next Piece: 2 2\n",
      "\n",
      "X O O O \n",
      "O X O O \n",
      "O O O O \n",
      "O O O O \n",
      "\n",
      "Player 1\n",
      "Next Piece: 3 3\n",
      "\n",
      "X O O O \n",
      "O X O O \n",
      "O O X O \n",
      "O O O O \n",
      "\n",
      "Player 2\n",
      "Next Piece: 4 4\n",
      "\n",
      "X O O O \n",
      "O X O O \n",
      "O O X O \n",
      "O O O X \n",
      "\n",
      "GAME OVER! Player 1 Wins!\n"
     ]
    }
   ],
   "source": [
    "env.Env(4).play_hvh()"
   ]
  },
  {
   "cell_type": "code",
   "execution_count": null,
   "metadata": {
    "collapsed": true
   },
   "outputs": [],
   "source": []
  }
 ],
 "metadata": {
  "kernelspec": {
   "display_name": "Python 3",
   "language": "python",
   "name": "python3"
  },
  "language_info": {
   "codemirror_mode": {
    "name": "ipython",
    "version": 3
   },
   "file_extension": ".py",
   "mimetype": "text/x-python",
   "name": "python",
   "nbconvert_exporter": "python",
   "pygments_lexer": "ipython3",
   "version": "3.6.1"
  }
 },
 "nbformat": 4,
 "nbformat_minor": 2
}
