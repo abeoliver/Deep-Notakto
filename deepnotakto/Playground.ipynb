{
 "cells": [
  {
   "cell_type": "code",
   "execution_count": 1,
   "metadata": {},
   "outputs": [],
   "source": [
    "import numpy as np\n",
    "from copy import copy\n",
    "import tensorflow as tf\n",
    "from importlib import reload\n",
    "from random import randint\n",
    "import matplotlib.pyplot as plt\n",
    "\n",
    "import environment as env\n",
    "import agent\n",
    "import agents.random_agent as ra\n",
    "import agents.q_no_hidden as qnh"
   ]
  },
  {
   "cell_type": "code",
   "execution_count": 2,
   "metadata": {},
   "outputs": [
    {
     "data": {
      "text/plain": [
       "<module 'agents.q_no_hidden' from 'C:\\\\Users\\\\abeol\\\\Git\\\\Deep-Notakto\\\\deepnotakto\\\\agents\\\\q_no_hidden.py'>"
      ]
     },
     "execution_count": 2,
     "metadata": {},
     "output_type": "execute_result"
    }
   ],
   "source": [
    "reload(env)\n",
    "reload(agent)\n",
    "reload(ra)\n",
    "reload(qnh)"
   ]
  },
  {
   "cell_type": "code",
   "execution_count": 9,
   "metadata": {},
   "outputs": [
    {
     "name": "stderr",
     "output_type": "stream",
     "text": [
      "C:\\Users\\abeol\\Git\\Deep-Notakto\\deepnotakto\\environment.py:72: FutureWarning: comparison to `None` will result in an elementwise object comparison in the future.\n",
      "  if board == None:\n"
     ]
    },
    {
     "name": "stdout",
     "output_type": "stream",
     "text": [
      "[[  2.00126190e+02   2.00085236e+02   1.08661636e+02   2.00142029e+02\n",
      "    1.52874817e+02   1.99759262e+02   1.31861847e+02   1.99835251e+02\n",
      "    2.00028320e+02]\n",
      " [  0.00000000e+00   1.99844223e+02   2.00528564e+01   0.00000000e+00\n",
      "    0.00000000e+00   2.00082382e+02   0.00000000e+00   0.00000000e+00\n",
      "    2.00028320e+02]\n",
      " [  0.00000000e+00   0.00000000e+00   2.01715866e+02   0.00000000e+00\n",
      "    2.87536106e+01   0.00000000e+00   6.97505722e+01   0.00000000e+00\n",
      "    0.00000000e+00]\n",
      " [  2.00126190e+02   0.00000000e+00   2.00528564e+01   2.00142029e+02\n",
      "    0.00000000e+00   0.00000000e+00   1.05402622e+01   0.00000000e+00\n",
      "    0.00000000e+00]\n",
      " [  2.00126190e+02   0.00000000e+00   9.30542450e+01   0.00000000e+00\n",
      "    2.01564407e+02   1.82344198e-01   3.97129860e+01   0.00000000e+00\n",
      "    0.00000000e+00]\n",
      " [  0.00000000e+00   0.00000000e+00   0.00000000e+00   0.00000000e+00\n",
      "    2.87536106e+01   2.00082382e+02   3.16094170e+01   0.00000000e+00\n",
      "    0.00000000e+00]\n",
      " [  0.00000000e+00   0.00000000e+00   0.00000000e+00   0.00000000e+00\n",
      "    2.87536106e+01   1.19920254e-01   2.01612320e+02   0.00000000e+00\n",
      "    2.00028320e+02]\n",
      " [  0.00000000e+00   2.00230377e+02   0.00000000e+00   0.00000000e+00\n",
      "    2.87536106e+01   6.24239892e-02   2.76008415e+01   1.99835251e+02\n",
      "    0.00000000e+00]\n",
      " [  0.00000000e+00   1.99699066e+02   0.00000000e+00   0.00000000e+00\n",
      "    1.99359798e+01   1.99941605e+02   0.00000000e+00   0.00000000e+00\n",
      "    2.00028320e+02]]\n"
     ]
    }
   ],
   "source": [
    "a1 = qnh.QNoHidden(3)\n",
    "w1 = a1.session.run(a1.w)\n",
    "a2 = ra.RandomAgent()\n",
    "for i in range(1000):\n",
    "    e = env.Env(3)\n",
    "    e.play_cvc(a1, a2, False)\n",
    "print(np.abs(w1 - a1.session.run(a1.w)))"
   ]
  },
  {
   "cell_type": "code",
   "execution_count": 4,
   "metadata": {},
   "outputs": [
    {
     "name": "stderr",
     "output_type": "stream",
     "text": [
      "C:\\Users\\abeol\\Git\\Deep-Notakto\\deepnotakto\\environment.py:72: FutureWarning: comparison to `None` will result in an elementwise object comparison in the future.\n",
      "  if board == None:\n"
     ]
    },
    {
     "name": "stdout",
     "output_type": "stream",
     "text": [
      "\n",
      "O O O \n",
      "O O O \n",
      "O O O \n",
      "\n",
      "\n",
      "O O O \n",
      "X O O \n",
      "O O O \n",
      "\n",
      "Player 2\n",
      "Next Piece: exit\n"
     ]
    },
    {
     "data": {
      "text/plain": [
       "False"
      ]
     },
     "execution_count": 4,
     "metadata": {},
     "output_type": "execute_result"
    }
   ],
   "source": [
    "e = env.Env(3)\n",
    "e.play_hvc(a1, False)"
   ]
  },
  {
   "cell_type": "code",
   "execution_count": 11,
   "metadata": {},
   "outputs": [
    {
     "name": "stdout",
     "output_type": "stream",
     "text": [
      "[[-198.80102539 -201.3250885  -108.58683014]\n",
      " [-198.19668579  -11.51227188 -199.64823914]\n",
      " [-133.5317688  -200.72920227 -199.79154968]]\n"
     ]
    }
   ],
   "source": [
    "e = env.Env(3)\n",
    "print(np.reshape(a1.get_Q(e.observe()), [3, 3]))"
   ]
  },
  {
   "cell_type": "code",
   "execution_count": 12,
   "metadata": {},
   "outputs": [
    {
     "name": "stderr",
     "output_type": "stream",
     "text": [
      "C:\\Users\\abeol\\Git\\Deep-Notakto\\deepnotakto\\environment.py:72: FutureWarning: comparison to `None` will result in an elementwise object comparison in the future.\n",
      "  if board == None:\n"
     ]
    }
   ],
   "source": [
    "a1.act(e)"
   ]
  },
  {
   "cell_type": "code",
   "execution_count": 13,
   "metadata": {},
   "outputs": [
    {
     "data": {
      "text/plain": [
       "array([[0, 0, 0],\n",
       "       [0, 1, 0],\n",
       "       [0, 0, 0]])"
      ]
     },
     "execution_count": 13,
     "metadata": {},
     "output_type": "execute_result"
    }
   ],
   "source": [
    "e.board"
   ]
  },
  {
   "cell_type": "code",
   "execution_count": null,
   "metadata": {
    "collapsed": true
   },
   "outputs": [],
   "source": []
  }
 ],
 "metadata": {
  "kernelspec": {
   "display_name": "Python 3",
   "language": "python",
   "name": "python3"
  },
  "language_info": {
   "codemirror_mode": {
    "name": "ipython",
    "version": 3
   },
   "file_extension": ".py",
   "mimetype": "text/x-python",
   "name": "python",
   "nbconvert_exporter": "python",
   "pygments_lexer": "ipython3",
   "version": "3.6.1"
  }
 },
 "nbformat": 4,
 "nbformat_minor": 2
}
