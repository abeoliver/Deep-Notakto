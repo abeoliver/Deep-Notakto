{
 "cells": [
  {
   "cell_type": "code",
   "execution_count": 1,
   "metadata": {},
   "outputs": [],
   "source": [
    "import numpy as np\n",
    "from copy import copy\n",
    "import tensorflow as tf\n",
    "from importlib import reload\n",
    "from random import randint\n",
    "import matplotlib.pyplot as plt\n",
    "\n",
    "import environment as env\n",
    "import agent\n",
    "import agents.random_agent as ra\n",
    "import agents.q_no_hidden as qnh\n",
    "import agents.human as human"
   ]
  },
  {
   "cell_type": "code",
   "execution_count": 2,
   "metadata": {},
   "outputs": [
    {
     "name": "stdout",
     "output_type": "stream",
     "text": [
      "Training ..................... Done\n"
     ]
    }
   ],
   "source": [
    "# Create a trainable Q-Learning agent for a 3x3 game\n",
    "QAgent = qnh.QNoHidden(3)\n",
    "# Create a random playing agent\n",
    "RandomAgent = ra.RandomAgent()\n",
    "# Create an environment with a 3x3 board\n",
    "e = env.Env(3)\n",
    "# Train the agent over 100 games\n",
    "e.train(QAgent, RandomAgent, 100)\n",
    "# Save the agent's parameters\n",
    "QAgent.save()"
   ]
  }
 ],
 "metadata": {
  "kernelspec": {
   "display_name": "Python 3",
   "language": "python",
   "name": "python3"
  },
  "language_info": {
   "codemirror_mode": {
    "name": "ipython",
    "version": 3
   },
   "file_extension": ".py",
   "mimetype": "text/x-python",
   "name": "python",
   "nbconvert_exporter": "python",
   "pygments_lexer": "ipython3",
   "version": "3.6.1"
  }
 },
 "nbformat": 4,
 "nbformat_minor": 2
}
