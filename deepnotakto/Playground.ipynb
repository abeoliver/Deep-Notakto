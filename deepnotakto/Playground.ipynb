{
 "cells": [
  {
   "cell_type": "code",
   "execution_count": 1,
   "metadata": {
    "collapsed": true
   },
   "outputs": [],
   "source": [
    "import numpy as np\n",
    "from copy import copy\n",
    "import tensorflow as tf\n",
    "from importlib import reload\n",
    "from random import randint\n",
    "import matplotlib.pyplot as plt\n",
    "\n",
    "import environment as env\n",
    "import agent\n",
    "import agents.random_agent as ra\n",
    "import agents.q_no_hidden as qnh\n",
    "import agents.human as human"
   ]
  },
  {
   "cell_type": "code",
   "execution_count": null,
   "metadata": {
    "collapsed": true
   },
   "outputs": [],
   "source": [
    "reload(env)\n",
    "reload(agent)\n",
    "reload(ra)\n",
    "reload(qnh)\n",
    "reload(human)"
   ]
  },
  {
   "cell_type": "code",
   "execution_count": 2,
   "metadata": {},
   "outputs": [
    {
     "name": "stdout",
     "output_type": "stream",
     "text": [
      "Turn #0\n",
      "\n",
      "O O O \n",
      "O O O \n",
      "O O X \n",
      "\n",
      "Turn #1\n",
      "Next Piece: 1 1\n",
      "\n",
      "X O O \n",
      "O O O \n",
      "O O X \n",
      "\n",
      "Turn #2\n",
      "\n",
      "X O O \n",
      "O O O \n",
      "O O X \n",
      "\n",
      "Player attempted illegal move\n",
      "Player 2 Wins!\n",
      "Turn #0\n",
      "\n",
      "X O O \n",
      "O O O \n",
      "O O O \n",
      "\n",
      "Turn #1\n",
      "Next Piece: 2 2\n",
      "\n",
      "X O O \n",
      "O X O \n",
      "O O O \n",
      "\n",
      "Turn #2\n",
      "\n",
      "X O O \n",
      "X X O \n",
      "O O O \n",
      "\n",
      "Turn #3\n",
      "Next Piece: 3 3\n",
      "\n",
      "X O O \n",
      "X X O \n",
      "O O X \n",
      "\n",
      "Player 1 Wins!\n"
     ]
    }
   ],
   "source": [
    "a1 = qnh.QNoHidden(3)\n",
    "a2 = ra.RandomAgent()\n",
    "h = human.Human()\n",
    "e = env.Env(3)\n",
    "e.train(a1, h, 2, True)"
   ]
  },
  {
   "cell_type": "code",
   "execution_count": 3,
   "metadata": {},
   "outputs": [
    {
     "name": "stdout",
     "output_type": "stream",
     "text": [
      "[[  5.81911325e-01  -8.30414832e-01  -1.59635007e+00]\n",
      " [  1.14921883e-01  -1.00835077e-01  -8.62590492e-01]\n",
      " [ -1.13725066e+00  -1.01383519e+00  -1.99260910e+02]]\n"
     ]
    }
   ],
   "source": [
    "e.reset()\n",
    "print(np.reshape(a1.get_Q(e.observe()), [3,3]))"
   ]
  },
  {
   "cell_type": "code",
   "execution_count": null,
   "metadata": {
    "collapsed": true
   },
   "outputs": [],
   "source": []
  }
 ],
 "metadata": {
  "kernelspec": {
   "display_name": "Python 3",
   "language": "python",
   "name": "python3"
  },
  "language_info": {
   "codemirror_mode": {
    "name": "ipython",
    "version": 3
   },
   "file_extension": ".py",
   "mimetype": "text/x-python",
   "name": "python",
   "nbconvert_exporter": "python",
   "pygments_lexer": "ipython3",
   "version": "3.6.1"
  }
 },
 "nbformat": 4,
 "nbformat_minor": 2
}
