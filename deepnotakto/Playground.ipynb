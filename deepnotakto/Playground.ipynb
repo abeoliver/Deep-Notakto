{
 "cells": [
  {
   "cell_type": "code",
   "execution_count": 77,
   "metadata": {},
   "outputs": [],
   "source": [
    "import numpy as np\n",
    "from copy import copy\n",
    "import tensorflow as tf\n",
    "from importlib import reload\n",
    "from random import randint\n",
    "\n",
    "import game\n",
    "import agent\n",
    "import agents.random_agent as ra\n",
    "import agents.rl_3_no_hidden as rl"
   ]
  },
  {
   "cell_type": "code",
   "execution_count": 111,
   "metadata": {},
   "outputs": [
    {
     "data": {
      "text/plain": [
       "<module 'agents.rl_3_no_hidden' from 'C:\\\\Users\\\\abeol\\\\Git\\\\Deep-Notakto\\\\deepnotakto\\\\agents\\\\rl_3_no_hidden.py'>"
      ]
     },
     "execution_count": 111,
     "metadata": {},
     "output_type": "execute_result"
    }
   ],
   "source": [
    "reload(game)\n",
    "reload(agent)\n",
    "reload(ra)\n",
    "reload(rl)"
   ]
  },
  {
   "cell_type": "code",
   "execution_count": 112,
   "metadata": {},
   "outputs": [],
   "source": [
    "b = game.Board(3)\n",
    "b.board[0, 0] = 1\n",
    "a = rl.RL3NoHidden()"
   ]
  },
  {
   "cell_type": "code",
   "execution_count": 113,
   "metadata": {},
   "outputs": [
    {
     "name": "stdout",
     "output_type": "stream",
     "text": [
      "0\n",
      "\n",
      "X X O \n",
      "O O O \n",
      "O O O \n",
      "\n",
      "1\n",
      "\n",
      "X X O \n",
      "O X O \n",
      "O O O \n",
      "\n",
      "2\n",
      "\n",
      "X X O \n",
      "O X O \n",
      "O O O \n",
      "\n",
      "Player 2 Wins!\n"
     ]
    }
   ],
   "source": [
    "b.play_cvc(a, a, True)"
   ]
  }
 ],
 "metadata": {
  "kernelspec": {
   "display_name": "Python 3",
   "language": "python",
   "name": "python3"
  },
  "language_info": {
   "codemirror_mode": {
    "name": "ipython",
    "version": 3
   },
   "file_extension": ".py",
   "mimetype": "text/x-python",
   "name": "python",
   "nbconvert_exporter": "python",
   "pygments_lexer": "ipython3",
   "version": "3.6.1"
  }
 },
 "nbformat": 4,
 "nbformat_minor": 2
}
