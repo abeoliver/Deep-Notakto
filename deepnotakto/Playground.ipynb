{
 "cells": [
  {
   "cell_type": "code",
   "execution_count": 62,
   "metadata": {
    "collapsed": true
   },
   "outputs": [],
   "source": [
    "import numpy as np\n",
    "from copy import copy\n",
    "import tensorflow as tf\n",
    "from importlib import reload\n",
    "from random import randint\n",
    "\n",
    "import environment as env\n",
    "import agent\n",
    "import agents.random_agent as ra\n",
    "import agents.q_no_hidden as qnh"
   ]
  },
  {
   "cell_type": "code",
   "execution_count": 76,
   "metadata": {},
   "outputs": [
    {
     "data": {
      "text/plain": [
       "<module 'agents.q_no_hidden' from 'C:\\\\Users\\\\abeol\\\\Git\\\\Deep-Notakto\\\\deepnotakto\\\\agents\\\\q_no_hidden.py'>"
      ]
     },
     "execution_count": 76,
     "metadata": {},
     "output_type": "execute_result"
    }
   ],
   "source": [
    "reload(env)\n",
    "reload(agent)\n",
    "reload(ra)\n",
    "reload(qnh)"
   ]
  },
  {
   "cell_type": "code",
   "execution_count": 77,
   "metadata": {},
   "outputs": [
    {
     "name": "stdout",
     "output_type": "stream",
     "text": [
      "Turn #0\n",
      "\n",
      "X O O \n",
      "O O O \n",
      "O O O \n",
      "\n",
      "Turn #1\n",
      "\n",
      "X X O \n",
      "O O O \n",
      "O O O \n",
      "\n",
      "Turn #2\n",
      "\n",
      "X X O \n",
      "X O O \n",
      "O O O \n",
      "\n",
      "Turn #3\n",
      "\n",
      "X X X \n",
      "X O O \n",
      "O O O \n",
      "\n",
      "Player 1 Wins!\n"
     ]
    }
   ],
   "source": [
    "e = env.Env(3)\n",
    "a1 = qnh.QNoHidden(3)\n",
    "a2 = ra.RandomAgent()\n",
    "e.play_cvc(a1, a2, True)"
   ]
  },
  {
   "cell_type": "code",
   "execution_count": 78,
   "metadata": {},
   "outputs": [
    {
     "name": "stdout",
     "output_type": "stream",
     "text": [
      "\n",
      "O O O O \n",
      "O O O O \n",
      "O O O O \n",
      "O O O O \n",
      "\n",
      "Player 1\n",
      "Next Piece: exit\n"
     ]
    },
    {
     "data": {
      "text/plain": [
       "False"
      ]
     },
     "execution_count": 78,
     "metadata": {},
     "output_type": "execute_result"
    }
   ],
   "source": [
    "env.Env(4).play_hvh()"
   ]
  },
  {
   "cell_type": "code",
   "execution_count": null,
   "metadata": {
    "collapsed": true
   },
   "outputs": [],
   "source": []
  }
 ],
 "metadata": {
  "kernelspec": {
   "display_name": "Python 3",
   "language": "python",
   "name": "python3"
  },
  "language_info": {
   "codemirror_mode": {
    "name": "ipython",
    "version": 3
   },
   "file_extension": ".py",
   "mimetype": "text/x-python",
   "name": "python",
   "nbconvert_exporter": "python",
   "pygments_lexer": "ipython3",
   "version": "3.6.1"
  }
 },
 "nbformat": 4,
 "nbformat_minor": 2
}
