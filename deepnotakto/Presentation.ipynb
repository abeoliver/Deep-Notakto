{
 "cells": [
  {
   "cell_type": "markdown",
   "metadata": {},
   "source": [
    "# Reinforcement-based Search Tree Pruning\n",
    "## Abraham Oliver, Brown County High School"
   ]
  },
  {
   "cell_type": "code",
   "execution_count": 1,
   "metadata": {
    "collapsed": true
   },
   "outputs": [],
   "source": [
    "# Dependencies\n",
    "import random, sys\n",
    "import numpy as np\n",
    "from importlib import reload\n",
    "from copy import copy\n",
    "\n",
    "# Deepnotakto Project\n",
    "sys.path.insert(0, '..')\n",
    "import util, visual, trainer, train, agents.agent\n",
    "import environment as env\n",
    "import agents.random_agent as rp\n",
    "import agents.Q as Q\n",
    "import agents.human as human"
   ]
  },
  {
   "cell_type": "markdown",
   "metadata": {},
   "source": [
    "## The Game\n",
    "#### 3 x 3\n",
    "**Player 1 Winning Strategy** Play in the center on the first move. Play a knight's move (from chess) from the opponent's move.\n",
    "\n",
    "#### 4 x 4\n",
    "** Player 2 Winning Strategy** Draw an imaginary line either horizontally or vertically, splitting the board in half. Play a knight's move   from the opponent's move on the side of the imaginary line that the opponent's move was played.\n",
    "\n",
    "#### 5 x 5, 6 x 6, and 7x7\n",
    "**Player 1 Winning Strategy** Not yet known\n",
    "\n",
    "#### 8x8 and larger\n",
    "**Winner Not Known**"
   ]
  },
  {
   "cell_type": "code",
   "execution_count": 2,
   "metadata": {
    "collapsed": true
   },
   "outputs": [
    {
     "ename": "SystemExit",
     "evalue": "",
     "output_type": "error",
     "traceback": [
      "An exception has occurred, use %tb to see the full traceback.\n",
      "\u001b[1;31mSystemExit\u001b[0m\n"
     ]
    },
    {
     "name": "stderr",
     "output_type": "stream",
     "text": [
      "C:\\Users\\abeol\\Anaconda3\\envs\\Deep-Notakto\\lib\\site-packages\\IPython\\core\\interactiveshell.py:2870: UserWarning: To exit: use 'exit', 'quit', or Ctrl-D.\n",
      "  warn(\"To exit: use 'exit', 'quit', or Ctrl-D.\", stacklevel=1)\n"
     ]
    }
   ],
   "source": [
    "BOARD_SIZE = 3\n",
    "# Create a human player (that can be used for both players)\n",
    "h = human.Human()\n",
    "# Create a 3x3 game environment\n",
    "e = env.Env(BOARD_SIZE)\n",
    "# Play games between the humans on the 3x3\n",
    "gui = visual.GameWithConfidences(e, h, h, -1, show_confidences = False)"
   ]
  },
  {
   "cell_type": "markdown",
   "metadata": {},
   "source": [
    "### Q-Learning Agents\n",
    "#### Definitions\n",
    "##### Markov Decision Process (MDP)\n",
    "A markov decision process is a decision process that is defined by the tuple $(S, A, R_p(\\cdot), \\gamma)$ where $S$ is a state space (space of possible board positions), $A$ is an action space (space of possible actions for an agent to make), $R_p(s)$ is the immediate reward for some $s \\in S$ and a given player, and $\\gamma$ is the discount factor (the balance between future and immediate rewards). An time step of a deterministic MDP at time $t$ is $(s_t,a_t,r_t)$ where $r_t = R_p(s_t)$. An agent in an MDP is optimized in order to maximize the expected discounted reward from a given time-step $t$ until a terminal state at time-step $T$, $R_T=\\mathbb{E}[\\sum_{n=t}^{T} \\gamma^{n-t} r_t]$.\n",
    "##### Q-Learning\n",
    "In this environment, there exists a function $Q^*: S \\to A$ that produces the action $a$ that maximizes $R_T$ for a given state. Because it is often impossible to find the true $Q^*$, we approximate $Q^*$ with a funtion $Q_\\pi: S \\to A$ that produces an action based on a given policy $\\pi$ (note that $Q=Q^*$ when $\\pi=\\pi^*$, the optimal policy). We define $Q$ by $Q_\\pi(s)=\\mathrm{argmax}_a\\mathbb{E}[R_T|s, a, \\pi]$.\n",
    "##### Q-Agent\n",
    "For a computer agent, Q is defined by a neural network that accepts a given board state and returns a probability distribution over the action space. After a game rollout is completed, we can train the neural network by calculating target Q-values using the Bellman Equation $Q_{\\mathrm{target}}(s_t)=r_t+\\gamma \\mathrm{max}_{a'}Q(s',a')$."
   ]
  },
  {
   "cell_type": "code",
   "execution_count": 4,
   "metadata": {},
   "outputs": [
    {
     "ename": "SystemExit",
     "evalue": "",
     "output_type": "error",
     "traceback": [
      "An exception has occurred, use %tb to see the full traceback.\n",
      "\u001b[1;31mSystemExit\u001b[0m\n"
     ]
    },
    {
     "name": "stderr",
     "output_type": "stream",
     "text": [
      "C:\\Users\\abeol\\Anaconda3\\envs\\Deep-Notakto\\lib\\site-packages\\IPython\\core\\interactiveshell.py:2870: UserWarning: To exit: use 'exit', 'quit', or Ctrl-D.\n",
      "  warn(\"To exit: use 'exit', 'quit', or Ctrl-D.\", stacklevel=1)\n"
     ]
    }
   ],
   "source": [
    "# Create a Q-Agent\n",
    "training_parameters = {\"mode\": \"none\", \"learn_rate\": .01, \"rotate\": True, \"epochs\": 1, \"batch_size\": 1, \"replay_size\": 10}\n",
    "a1 = Q(layers = [9, 10, 9], gamma = .4, params = training_parameters, temp_func = 1)\n",
    "# Create a 3x3 environment\n",
    "e = env.Env(3)\n",
    "# Create a random player\n",
    "r = rp.RandomAgent(e)\n",
    "# Play the Q-Agent against the random player\n",
    "a1.deterministic = True\n",
    "gui = visual.GameWithConfidences(e, a1, r, -1, show_confidences = True)"
   ]
  },
  {
   "cell_type": "code",
   "execution_count": 5,
   "metadata": {},
   "outputs": [
    {
     "ename": "SystemExit",
     "evalue": "",
     "output_type": "error",
     "traceback": [
      "An exception has occurred, use %tb to see the full traceback.\n",
      "\u001b[1;31mSystemExit\u001b[0m\n"
     ]
    },
    {
     "name": "stderr",
     "output_type": "stream",
     "text": [
      "C:\\Users\\abeol\\Anaconda3\\envs\\Deep-Notakto\\lib\\site-packages\\IPython\\core\\interactiveshell.py:2870: UserWarning: To exit: use 'exit', 'quit', or Ctrl-D.\n",
      "  warn(\"To exit: use 'exit', 'quit', or Ctrl-D.\", stacklevel=1)\n"
     ]
    }
   ],
   "source": [
    "# Load a Q-Agent\n",
    "a2 = util.load_agent(\"agents/saves/p3.npz\", Q)\n",
    "a2.change_param(\"mode\", \"none\")\n",
    "a2.deterministic = True\n",
    "# Play the Q-Agent against the random player\n",
    "gui = visual.GameWithConfidences(e, a2, r, -1, show_confidences = True)"
   ]
  },
  {
   "cell_type": "markdown",
   "metadata": {},
   "source": [
    "### Training"
   ]
  },
  {
   "cell_type": "code",
   "execution_count": null,
   "metadata": {
    "collapsed": true
   },
   "outputs": [],
   "source": [
    "# Train the agent\n",
    "a1.change_param(\"mode\", \"replay\")\n",
    "a1.deterministic = False\n",
    "train.train_agent(e, a1, r, 10, 100)"
   ]
  },
  {
   "cell_type": "code",
   "execution_count": null,
   "metadata": {
    "collapsed": true
   },
   "outputs": [],
   "source": [
    "# Play the newly trained agent\n",
    "a1.change_param(\"mode\", \"none\")\n",
    "a1.deterministic = True\n",
    "gui = visual.GameWithConfidences(e, a1, r, -1, show_confidences = True)"
   ]
  }
 ],
 "metadata": {
  "kernelspec": {
   "display_name": "Python 3",
   "language": "python",
   "name": "python3"
  },
  "language_info": {
   "codemirror_mode": {
    "name": "ipython",
    "version": 3
   },
   "file_extension": ".py",
   "mimetype": "text/x-python",
   "name": "python",
   "nbconvert_exporter": "python",
   "pygments_lexer": "ipython3",
   "version": "3.6.1"
  }
 },
 "nbformat": 4,
 "nbformat_minor": 1
}
