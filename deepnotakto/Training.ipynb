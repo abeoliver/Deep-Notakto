{
 "cells": [
  {
   "cell_type": "code",
   "execution_count": 1,
   "metadata": {
    "collapsed": true
   },
   "outputs": [],
   "source": [
    "# General\n",
    "import sys\n",
    "import numpy as np\n",
    "sys.path.insert(0, '..')\n",
    "# Tree Search\n",
    "from importlib import reload\n",
    "import treesearch as ts\n",
    "import agents.qtree as qtree\n",
    "import agents.treeactivated as activated\n",
    "# Notakto\n",
    "import util\n",
    "from visual import GameWithConfidences\n",
    "from environment import Env\n",
    "from agents.random_agent import RandomAgent\n",
    "from agents.human import Human"
   ]
  },
  {
   "cell_type": "code",
   "execution_count": null,
   "metadata": {
    "collapsed": true
   },
   "outputs": [],
   "source": [
    "_ = [reload(i) for i in (qtree, ts, util, activated)]"
   ]
  },
  {
   "cell_type": "code",
   "execution_count": null,
   "metadata": {
    "collapsed": true,
    "scrolled": true
   },
   "outputs": [],
   "source": [
    "params = {\"rotate_live\": True, \"train_live\": True, \"learn_rate\": .005, \"batch_size\": 10, \"replay_size\": 50, \"epochs\": 2}\n",
    "agent = qtree.QTree([16, 200, 200, 200, 16], params = params, play_simulations = 20, max_queue = 100, tensorboard_interval = 1)"
   ]
  },
  {
   "cell_type": "code",
   "execution_count": 14,
   "metadata": {
    "collapsed": true
   },
   "outputs": [],
   "source": [
    "agent = util.load_agent(\"agents/saves/goal_3x3_jan_22_d.npz\", activated.ReluHidden)"
   ]
  },
  {
   "cell_type": "code",
   "execution_count": null,
   "metadata": {
    "collapsed": true
   },
   "outputs": [],
   "source": [
    "agent.self_play(1, 1, train = True, save_every = 0, save_name = \"agents/saves/new4_large_1.npz\")"
   ]
  },
  {
   "cell_type": "code",
   "execution_count": 15,
   "metadata": {},
   "outputs": [
    {
     "data": {
      "text/plain": [
       "85100"
      ]
     },
     "execution_count": 15,
     "metadata": {},
     "output_type": "execute_result"
    }
   ],
   "source": [
    "agent.iteration"
   ]
  },
  {
   "cell_type": "code",
   "execution_count": null,
   "metadata": {
    "collapsed": true
   },
   "outputs": [],
   "source": [
    "print(util.average_value(agent, n = 1000))"
   ]
  },
  {
   "cell_type": "code",
   "execution_count": 16,
   "metadata": {
    "scrolled": true
   },
   "outputs": [
    {
     "name": "stdout",
     "output_type": "stream",
     "text": [
      "0.492212\n",
      "[[ 0.08214351  0.08480626  0.08289409]\n",
      " [ 0.08457044  0.32888395  0.08784872]\n",
      " [ 0.08137009  0.08382618  0.0836568 ]]\n",
      "[[ 0.53897494 -0.17251593 -0.14061452 -0.16342005 -0.14339906  1.21472108\n",
      "  -0.1053675  -0.18197609 -0.15223844 -0.15426107]]\n"
     ]
    }
   ],
   "source": [
    "u = util.create_board([], 3)\n",
    "print(agent.value(u))\n",
    "print(agent.get_Q(u))\n",
    "print(agent.raw(u))"
   ]
  },
  {
   "cell_type": "code",
   "execution_count": 17,
   "metadata": {},
   "outputs": [
    {
     "ename": "SystemExit",
     "evalue": "",
     "output_type": "error",
     "traceback": [
      "An exception has occurred, use %tb to see the full traceback.\n",
      "\u001b[1;31mSystemExit\u001b[0m\n"
     ]
    },
    {
     "name": "stderr",
     "output_type": "stream",
     "text": [
      "C:\\Users\\abeol\\Anaconda3\\envs\\Deep-Notakto\\lib\\site-packages\\IPython\\core\\interactiveshell.py:2870: UserWarning: To exit: use 'exit', 'quit', or Ctrl-D.\n",
      "  warn(\"To exit: use 'exit', 'quit', or Ctrl-D.\", stacklevel=1)\n"
     ]
    }
   ],
   "source": [
    "env = Env(u.shape[0], starting = u)\n",
    "r = RandomAgent(env)\n",
    "h = Human()\n",
    "agent.mode(\"q\")\n",
    "agent.play_simulations = 20\n",
    "GameWithConfidences(env, agent, r, show_confidences = True)"
   ]
  },
  {
   "cell_type": "code",
   "execution_count": null,
   "metadata": {
    "collapsed": true
   },
   "outputs": [],
   "source": [
    "print(agent.get_biases())\n",
    "print(agent.get_weights())"
   ]
  },
  {
   "cell_type": "code",
   "execution_count": null,
   "metadata": {
    "collapsed": true
   },
   "outputs": [],
   "source": []
  }
 ],
 "metadata": {
  "kernelspec": {
   "display_name": "Python 3",
   "language": "python",
   "name": "python3"
  },
  "language_info": {
   "codemirror_mode": {
    "name": "ipython",
    "version": 3
   },
   "file_extension": ".py",
   "mimetype": "text/x-python",
   "name": "python",
   "nbconvert_exporter": "python",
   "pygments_lexer": "ipython3",
   "version": "3.6.1"
  }
 },
 "nbformat": 4,
 "nbformat_minor": 1
}
