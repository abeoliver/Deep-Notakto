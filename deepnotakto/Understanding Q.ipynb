{
 "cells": [
  {
   "cell_type": "code",
   "execution_count": 1,
   "metadata": {
    "collapsed": true
   },
   "outputs": [],
   "source": [
    "import numpy as np\n",
    "from copy import copy\n",
    "from importlib import reload\n",
    "\n",
    "import environment as env\n",
    "import visual\n",
    "import trainer\n",
    "import agents.random_agent as rp\n",
    "import agents.Q as Q\n",
    "import agents.human as human\n",
    "import agents.activated as activated\n",
    "import util\n",
    "import agents.agent as agent\n",
    "from train import train_agent\n",
    "# import agents.perfect as perfect"
   ]
  },
  {
   "cell_type": "code",
   "execution_count": 8,
   "metadata": {
    "collapsed": true
   },
   "outputs": [],
   "source": [
    "_ = reload(env)\n",
    "_ = reload(agent)\n",
    "_ = reload(Q)\n",
    "_ = reload(visual)\n",
    "_ = reload(activated)\n",
    "_ = reload(util)\n",
    "_ = reload(trainer)"
   ]
  },
  {
   "cell_type": "code",
   "execution_count": 2,
   "metadata": {
    "collapsed": true
   },
   "outputs": [],
   "source": [
    "e = env.Env(3)\n",
    "#a = util.load_agent(\"agents/saves/Q(05661).npz\", Q.Q)\n",
    "a = activated.ReluHidden([9, 10, 9], gamma = .4, training = {\"mode\": \"episodic\", \"learn_rate\": 1e-3})\n",
    "d = activated.ReluHidden([9, 10, 9], gamma = .4, training = {\"mode\": \"episodic\", \"learn_rate\": 1e-3})\n",
    "h = human.Human()\n",
    "r = rp.RandomAgent(e)"
   ]
  },
  {
   "cell_type": "code",
   "execution_count": 3,
   "metadata": {},
   "outputs": [
    {
     "name": "stdout",
     "output_type": "stream",
     "text": [
      "-------------------\n",
      "Action\n",
      "[[0 0 0]\n",
      " [1 0 0]\n",
      " [0 0 0]]\n",
      "Reward        -- -10\n",
      "Current Value -- 1.2781901819461536\n",
      "Future        -- 3.7445379083761092\n",
      "Bellman -- -8.502184836649556\n",
      "-------------------\n",
      "Action\n",
      "[[0 0 0]\n",
      " [1 0 0]\n",
      " [0 0 0]]\n",
      "Reward        -- -10\n",
      "Current Value -- 1.9310363212325499\n",
      "Future        -- 3.434943040928667\n",
      "Bellman -- -8.626022783628533\n"
     ]
    },
    {
     "ename": "SystemExit",
     "evalue": "",
     "output_type": "error",
     "traceback": [
      "An exception has occurred, use %tb to see the full traceback.\n",
      "\u001b[1;31mSystemExit\u001b[0m\n"
     ]
    },
    {
     "name": "stderr",
     "output_type": "stream",
     "text": [
      "C:\\Users\\abeol\\Anaconda3\\envs\\Deep-Notakto\\lib\\site-packages\\IPython\\core\\interactiveshell.py:2870: UserWarning: To exit: use 'exit', 'quit', or Ctrl-D.\n",
      "  warn(\"To exit: use 'exit', 'quit', or Ctrl-D.\", stacklevel=1)\n"
     ]
    }
   ],
   "source": [
    "a.mop = True\n",
    "d.mop = False\n",
    "gui = visual.GameWithConfidences(e, a, d, show_confidences = True)"
   ]
  },
  {
   "cell_type": "code",
   "execution_count": 4,
   "metadata": {},
   "outputs": [
    {
     "name": "stdout",
     "output_type": "stream",
     "text": [
      "Traning Agents 'Q_relu_hidden(fe8d5)' vs 'Q_relu_hidden(2fe82)'\n",
      "Elapsed 0 : 0 : 0 (at 8 : 43)\n",
      "Score: 30% vs 70% out of 10 games [1 / 10 rounds played]\n",
      "\n",
      "Elapsed 0 : 0 : 0 (at 8 : 43)\n",
      "Score: 0% vs 100% out of 10 games [2 / 10 rounds played]\n",
      "\n",
      "Elapsed 0 : 0 : 1 (at 8 : 43)\n",
      "Score: 20% vs 80% out of 10 games [3 / 10 rounds played]\n",
      "\n",
      "Elapsed 0 : 0 : 1 (at 8 : 43)\n",
      "Score: 40% vs 60% out of 10 games [4 / 10 rounds played]\n",
      "\n",
      "Elapsed 0 : 0 : 1 (at 8 : 43)\n",
      "Score: 40% vs 60% out of 10 games [5 / 10 rounds played]\n",
      "\n",
      "Elapsed 0 : 0 : 2 (at 8 : 43)\n",
      "Score: 40% vs 60% out of 10 games [6 / 10 rounds played]\n",
      "\n",
      "Elapsed 0 : 0 : 2 (at 8 : 43)\n",
      "Score: 30% vs 70% out of 10 games [7 / 10 rounds played]\n",
      "\n",
      "Elapsed 0 : 0 : 3 (at 8 : 43)\n",
      "Score: 30% vs 70% out of 10 games [8 / 10 rounds played]\n",
      "\n",
      "Elapsed 0 : 0 : 3 (at 8 : 43)\n",
      "Score: 0% vs 100% out of 10 games [9 / 10 rounds played]\n",
      "\n",
      "Elapsed 0 : 0 : 3 (at 8 : 43)\n",
      "Score: 40% vs 60% out of 10 games [10 / 10 rounds played]\n",
      "\n"
     ]
    }
   ],
   "source": [
    "a.mop = False\n",
    "d.mop = False\n",
    "train_agent(e, a, d, 10, 10, False)"
   ]
  },
  {
   "cell_type": "code",
   "execution_count": null,
   "metadata": {
    "collapsed": true
   },
   "outputs": [],
   "source": []
  }
 ],
 "metadata": {
  "kernelspec": {
   "display_name": "Python 3",
   "language": "python",
   "name": "python3"
  },
  "language_info": {
   "codemirror_mode": {
    "name": "ipython",
    "version": 3
   },
   "file_extension": ".py",
   "mimetype": "text/x-python",
   "name": "python",
   "nbconvert_exporter": "python",
   "pygments_lexer": "ipython3",
   "version": "3.6.1"
  }
 },
 "nbformat": 4,
 "nbformat_minor": 2
}
