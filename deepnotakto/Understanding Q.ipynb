{
 "cells": [
  {
   "cell_type": "code",
   "execution_count": 2,
   "metadata": {},
   "outputs": [],
   "source": [
    "# Dependencies\n",
    "import random, sys\n",
    "import numpy as np\n",
    "from importlib import reload\n",
    "from copy import copy\n",
    "\n",
    "# Deepnotakto Project\n",
    "sys.path.insert(0, '..')\n",
    "import util, visual, trainer, train, agents.agent\n",
    "import environment as env\n",
    "import agents.random_agent as rp\n",
    "import agents.Q as Q\n",
    "import agents.human as human\n",
    "import agents.activated as activated"
   ]
  },
  {
   "cell_type": "code",
   "execution_count": null,
   "metadata": {
    "collapsed": true,
    "scrolled": true
   },
   "outputs": [],
   "source": [
    "_ = reload(env)\n",
    "_ = reload(agents.agent)\n",
    "_ = reload(Q)\n",
    "_ = reload(visual)\n",
    "_ = reload(activated)\n",
    "_ = reload(util)\n",
    "_ = reload(trainer)\n",
    "_ = reload(train)"
   ]
  },
  {
   "cell_type": "code",
   "execution_count": 24,
   "metadata": {
    "collapsed": true
   },
   "outputs": [
    {
     "name": "stderr",
     "output_type": "stream",
     "text": [
      "Exception ignored in: <bound method ScopedTFStatus.__del__ of <tensorflow.python.framework.c_api_util.ScopedTFStatus object at 0x00000220038172E8>>\n",
      "Traceback (most recent call last):\n",
      "  File \"C:\\Users\\abeol\\Anaconda3\\envs\\Deep-Notakto\\lib\\site-packages\\tensorflow\\python\\framework\\c_api_util.py\", line 36, in __del__\n",
      "    c_api.TF_DeleteStatus(self.status)\n",
      "AttributeError: 'ScopedTFStatus' object has no attribute 'status'\n"
     ]
    }
   ],
   "source": [
    "e = env.Env(3)\n",
    "params ={\"mode\": \"episodic\", \"learn_rate\": .005, \"rotate\": True, \"epsilon_func\": lambda x: 100 / x,\n",
    "         \"epochs\": 1, \"batch_size\": -1}\n",
    "a = Q.Q([9, 40, 9], gamma = .5, training = params, name = \"a\")\n",
    "#a = util.load_agent(\"agents/saves/a.npz\", Q.Q)\n",
    "d = Q.Q([9, 20, 9], gamma = .5, training = params, name = \"d\")\n",
    "#d = util.load_agent(\"agents/saves/d.npz\", Q.Q)\n",
    "h = human.Human()\n",
    "r = rp.RandomAgent(e)"
   ]
  },
  {
   "cell_type": "code",
   "execution_count": 25,
   "metadata": {
    "scrolled": true
   },
   "outputs": [
    {
     "name": "stdout",
     "output_type": "stream",
     "text": [
      "Traning Agents 'a' vs 'd'\n",
      "Elapsed 0 : 0 : 4 (at 14 : 17)\n",
      "Score: 53% vs 47% out of 100 games [1 / 10 rounds played]\n",
      "\n",
      "Elapsed 0 : 0 : 8 (at 14 : 17)\n",
      "Score: 48% vs 52% out of 100 games [2 / 10 rounds played]\n",
      "\n",
      "Elapsed 0 : 0 : 13 (at 14 : 17)\n",
      "Score: 57% vs 43% out of 100 games [3 / 10 rounds played]\n",
      "\n",
      "Elapsed 0 : 0 : 18 (at 14 : 17)\n",
      "Score: 74% vs 26% out of 100 games [4 / 10 rounds played]\n",
      "\n",
      "Elapsed 0 : 0 : 23 (at 14 : 17)\n",
      "Score: 64% vs 36% out of 100 games [5 / 10 rounds played]\n",
      "\n",
      "Elapsed 0 : 0 : 28 (at 14 : 17)\n",
      "Score: 40% vs 60% out of 100 games [6 / 10 rounds played]\n",
      "\n",
      "Elapsed 0 : 0 : 33 (at 14 : 17)\n",
      "Score: 20% vs 80% out of 100 games [7 / 10 rounds played]\n",
      "\n",
      "Elapsed 0 : 0 : 39 (at 14 : 17)\n",
      "Score: 19% vs 81% out of 100 games [8 / 10 rounds played]\n",
      "\n",
      "Elapsed 0 : 0 : 45 (at 14 : 17)\n",
      "Score: 24% vs 76% out of 100 games [9 / 10 rounds played]\n",
      "\n",
      "Elapsed 0 : 0 : 52 (at 14 : 17)\n",
      "Score: 30% vs 70% out of 100 games [10 / 10 rounds played]\n",
      "\n"
     ]
    }
   ],
   "source": [
    "a.mop = False\n",
    "d.mop = False\n",
    "a.change_param(\"rotate\", True)\n",
    "d.change_param(\"rotate\", True)\n",
    "a.trainer.iteration = 0\n",
    "d.trainer.iteration = 0\n",
    "train.train_agent(e, a, d, 10, 100, save_a1 = True, save_a2 = True, path = \"agents/saves/\", constant = True)"
   ]
  },
  {
   "cell_type": "code",
   "execution_count": 26,
   "metadata": {},
   "outputs": [
    {
     "name": "stdout",
     "output_type": "stream",
     "text": [
      "-------------------\n",
      "PLAYER :: a\n",
      "State   Action\n",
      "[0 0 0]  [0 1 0]\n",
      "[0 0 0]  [0 0 0]\n",
      "[0 0 0]  [0 0 0]\n",
      "Reward        -- 0\n",
      "Current Value -- 1.3707469701766968\n",
      "Future        -- 2.9341883659362793\n",
      "Bellman       -- 1.4670941829681396\n",
      "Delta         -- 0.09634721279144287\n",
      "-------------------\n",
      "PLAYER :: a\n",
      "State   Action\n",
      "[0 1 0]  [0 0 0]\n",
      "[0 0 0]  [0 0 0]\n",
      "[0 0 1]  [0 1 0]\n",
      "Reward        -- 0\n",
      "Current Value -- 1.1138262748718262\n",
      "Future        -- 2.0512218475341797\n",
      "Bellman       -- 1.0256109237670898\n",
      "Delta         -- -0.08821535110473633\n",
      "-------------------\n",
      "PLAYER :: a\n",
      "State   Action\n",
      "[0 1 0]  [1 0 0]\n",
      "[1 0 0]  [0 0 0]\n",
      "[0 1 1]  [0 0 0]\n",
      "Reward        -- 2\n",
      "Current Value -- 1.6144020557403564\n",
      "Future        -- -0.4948778748512268\n",
      "Bellman       -- 1.752561092376709\n",
      "Delta         -- 0.13815903663635254\n",
      "-------------------\n",
      "PLAYER :: a\n",
      "State   Action\n",
      "[1 1 0]  [0 0 0]\n",
      "[1 0 1]  [0 0 0]\n",
      "[0 1 1]  [1 0 0]\n",
      "Reward        -- -2\n",
      "Current Value -- -1.6965336799621582\n"
     ]
    },
    {
     "ename": "SystemExit",
     "evalue": "",
     "output_type": "error",
     "traceback": [
      "An exception has occurred, use %tb to see the full traceback.\n",
      "\u001b[1;31mSystemExit\u001b[0m\n"
     ]
    },
    {
     "name": "stderr",
     "output_type": "stream",
     "text": [
      "C:\\Users\\abeol\\Anaconda3\\envs\\Deep-Notakto\\lib\\site-packages\\IPython\\core\\interactiveshell.py:2870: UserWarning: To exit: use 'exit', 'quit', or Ctrl-D.\n",
      "  warn(\"To exit: use 'exit', 'quit', or Ctrl-D.\", stacklevel=1)\n"
     ]
    }
   ],
   "source": [
    "a.mop = True\n",
    "d.mop = False\n",
    "a.change_param(\"rotate\", False)\n",
    "d.change_param(\"rotate\", False)\n",
    "#train.train_agent(e, a, d, 1, 1, constant = False)\n",
    "gui = visual.GameWithConfidences(e, a, d, -1, show_confidences = True)"
   ]
  },
  {
   "cell_type": "code",
   "execution_count": null,
   "metadata": {
    "collapsed": true,
    "scrolled": false
   },
   "outputs": [],
   "source": [
    "state = np.array([\n",
    "    [0, 0, 0],\n",
    "    [0, 0, 0],\n",
    "    [0, 0, 0]\n",
    "])\n",
    "move = np.array([\n",
    "    [0, 0, 0],\n",
    "    [0, 0, 1],\n",
    "    [0, 0, 0]\n",
    "])\n",
    "a.mop = False\n",
    "print(a.target(state, move, 0) - a.get_Q(state))"
   ]
  },
  {
   "cell_type": "code",
   "execution_count": null,
   "metadata": {
    "collapsed": true
   },
   "outputs": [],
   "source": [
    "a.get_weights()"
   ]
  },
  {
   "cell_type": "code",
   "execution_count": null,
   "metadata": {},
   "outputs": [],
   "source": [
    "l = []\n",
    "q = deque(maxlen = 10)\n",
    "r1 = range(10000)\n",
    "r2 = range(10000)\n",
    "%timeit for i in r1: q.append(i)\n",
    "%timeit for i in r2: l.append(i)"
   ]
  }
 ],
 "metadata": {
  "kernelspec": {
   "display_name": "Python 3",
   "language": "python",
   "name": "python3"
  },
  "language_info": {
   "codemirror_mode": {
    "name": "ipython",
    "version": 3
   },
   "file_extension": ".py",
   "mimetype": "text/x-python",
   "name": "python",
   "nbconvert_exporter": "python",
   "pygments_lexer": "ipython3",
   "version": "3.6.1"
  }
 },
 "nbformat": 4,
 "nbformat_minor": 1
}
