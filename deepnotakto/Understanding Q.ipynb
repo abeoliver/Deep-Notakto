{
 "cells": [
  {
   "cell_type": "code",
   "execution_count": 1,
   "metadata": {
    "collapsed": true
   },
   "outputs": [],
   "source": [
    "# Dependencies\n",
    "import random, sys\n",
    "import numpy as np\n",
    "from importlib import reload\n",
    "from copy import copy\n",
    "\n",
    "# Deepnotakto Project\n",
    "sys.path.insert(0, '..')\n",
    "import util, visual, trainer, train, agents.agent\n",
    "import environment as env\n",
    "import agents.random_agent as rp\n",
    "import agents.Q as Q\n",
    "import agents.human as human\n",
    "import agents.activated as activated"
   ]
  },
  {
   "cell_type": "code",
   "execution_count": null,
   "metadata": {
    "collapsed": true,
    "scrolled": true
   },
   "outputs": [],
   "source": [
    "_ = reload(env)\n",
    "_ = reload(agents.agent)\n",
    "_ = reload(Q)\n",
    "_ = reload(visual)\n",
    "_ = reload(activated)\n",
    "_ = reload(util)\n",
    "_ = reload(trainer)\n",
    "_ = reload(train)"
   ]
  },
  {
   "cell_type": "code",
   "execution_count": 2,
   "metadata": {},
   "outputs": [],
   "source": [
    "e = env.Env(4)\n",
    "params ={\"mode\": \"replay\", \"learn_rate\": .005, \"rotate\": True,\n",
    "         \"epochs\": 1, \"batch_size\": 1, \"replay_size\": 20}\n",
    "a = activated.TanhHidden([16, 100, 100, 16], gamma = .4, params = params, name = \"tanh_trials_4_p1\",\n",
    "                         temp_func = lambda x: max(0, min(2, 300 / (x + 1))))\n",
    "# a = util.load_agent(\"agents/saves/a.npz\", Q.Q)\n",
    "d = activated.TanhHidden([16, 100, 100, 16], gamma = .4, params = params, name = \"tanh_trials_4_p2\",\n",
    "                         temp_func = lambda x: max(0, min(2, 300 / (x + 1))))\n",
    "# d = util.load_agent(\"agents/saves/d.npz\", Q.Q)\n",
    "h = human.Human()\n",
    "r = rp.RandomAgent(e)"
   ]
  },
  {
   "cell_type": "code",
   "execution_count": null,
   "metadata": {},
   "outputs": [
    {
     "name": "stdout",
     "output_type": "stream",
     "text": [
      "Traning Agents 'Random' vs 'tanh_trials_4_p2'\n",
      "Elapsed 0 : 0 : 21 (at 11 : 19)\n",
      "Score: 38% vs 62% out of 100 games [1 / 25 rounds played]\n",
      "\n",
      "Elapsed 0 : 0 : 47 (at 11 : 19)\n",
      "Score: 52% vs 48% out of 100 games [2 / 25 rounds played]\n",
      "\n",
      "Elapsed 0 : 1 : 28 (at 11 : 20)\n",
      "Score: 46% vs 54% out of 100 games [3 / 25 rounds played]\n",
      "\n",
      "Elapsed 0 : 2 : 16 (at 11 : 21)\n",
      "Score: 41% vs 59% out of 100 games [4 / 25 rounds played]\n",
      "\n",
      "Elapsed 0 : 3 : 20 (at 11 : 22)\n",
      "Score: 49% vs 51% out of 100 games [5 / 25 rounds played]\n",
      "\n",
      "Elapsed 0 : 4 : 21 (at 11 : 23)\n",
      "Score: 36% vs 64% out of 100 games [6 / 25 rounds played]\n",
      "\n",
      "Elapsed 0 : 5 : 22 (at 11 : 24)\n",
      "Score: 53% vs 47% out of 100 games [7 / 25 rounds played]\n",
      "\n",
      "Elapsed 0 : 6 : 26 (at 11 : 25)\n",
      "Score: 38% vs 62% out of 100 games [8 / 25 rounds played]\n",
      "\n",
      "Elapsed 0 : 7 : 27 (at 11 : 26)\n",
      "Score: 45% vs 55% out of 100 games [9 / 25 rounds played]\n",
      "\n",
      "Elapsed 0 : 8 : 32 (at 11 : 27)\n",
      "Score: 47% vs 53% out of 100 games [10 / 25 rounds played]\n",
      "\n",
      "Elapsed 0 : 9 : 35 (at 11 : 28)\n",
      "Score: 55% vs 45% out of 100 games [11 / 25 rounds played]\n",
      "\n",
      "Elapsed 0 : 10 : 35 (at 11 : 29)\n",
      "Score: 28% vs 72% out of 100 games [12 / 25 rounds played]\n",
      "\n",
      "Elapsed 0 : 11 : 28 (at 11 : 30)\n",
      "Score: 40% vs 60% out of 100 games [13 / 25 rounds played]\n",
      "\n",
      "Elapsed 0 : 12 : 37 (at 11 : 31)\n",
      "Score: 30% vs 70% out of 100 games [14 / 25 rounds played]\n",
      "\n",
      "Elapsed 0 : 13 : 37 (at 11 : 32)\n",
      "Score: 48% vs 52% out of 100 games [15 / 25 rounds played]\n",
      "\n",
      "Elapsed 0 : 14 : 40 (at 11 : 33)\n",
      "Score: 34% vs 66% out of 100 games [16 / 25 rounds played]\n",
      "\n",
      "Elapsed 0 : 15 : 41 (at 11 : 34)\n",
      "Score: 26% vs 74% out of 100 games [17 / 25 rounds played]\n",
      "\n",
      "Elapsed 0 : 16 : 43 (at 11 : 35)\n",
      "Score: 30% vs 70% out of 100 games [18 / 25 rounds played]\n",
      "\n",
      "Elapsed 0 : 17 : 46 (at 11 : 36)\n",
      "Score: 35% vs 65% out of 100 games [19 / 25 rounds played]\n",
      "\n",
      "Elapsed 0 : 18 : 50 (at 11 : 37)\n",
      "Score: 39% vs 61% out of 100 games [20 / 25 rounds played]\n",
      "\n",
      "Elapsed 0 : 19 : 57 (at 11 : 38)\n",
      "Score: 41% vs 59% out of 100 games [21 / 25 rounds played]\n",
      "\n",
      "Elapsed 0 : 21 : 4 (at 11 : 39)\n",
      "Score: 34% vs 66% out of 100 games [22 / 25 rounds played]\n",
      "\n",
      "Elapsed 0 : 22 : 9 (at 11 : 40)\n",
      "Score: 22% vs 78% out of 100 games [23 / 25 rounds played]\n",
      "\n"
     ]
    },
    {
     "name": "stderr",
     "output_type": "stream",
     "text": [
      "..\\deepnotakto\\agents\\Q.py:314: RuntimeWarning: overflow encountered in exp\n",
      "  return np.exp(x) / np.sum(np.exp(x), axis = 0)\n",
      "..\\deepnotakto\\agents\\Q.py:314: RuntimeWarning: invalid value encountered in true_divide\n",
      "  return np.exp(x) / np.sum(np.exp(x), axis = 0)\n",
      "..\\deepnotakto\\agents\\Q.py:328: RuntimeWarning: invalid value encountered in less\n",
      "  action[np.random.choice(state.size, p = probs)] = 1\n"
     ]
    }
   ],
   "source": [
    "a.change_param(\"rotate\", True)\n",
    "d.change_param(\"rotate\", True)\n",
    "a.change_param(\"mode\", \"replay\")\n",
    "d.change_param(\"mode\", \"replay\")\n",
    "train.train_agent(e, r, d, 25, 100, save_a1 = False, save_a2 = True, path = \"agents/saves/\", constant = True)"
   ]
  },
  {
   "cell_type": "code",
   "execution_count": 4,
   "metadata": {},
   "outputs": [
    {
     "ename": "SystemExit",
     "evalue": "",
     "output_type": "error",
     "traceback": [
      "An exception has occurred, use %tb to see the full traceback.\n",
      "\u001b[1;31mSystemExit\u001b[0m\n"
     ]
    },
    {
     "name": "stderr",
     "output_type": "stream",
     "text": [
      "C:\\Users\\abeol\\Anaconda3\\envs\\Deep-Notakto\\lib\\site-packages\\IPython\\core\\interactiveshell.py:2870: UserWarning: To exit: use 'exit', 'quit', or Ctrl-D.\n",
      "  warn(\"To exit: use 'exit', 'quit', or Ctrl-D.\", stacklevel=1)\n"
     ]
    }
   ],
   "source": [
    "a.change_param(\"rotate\", False)\n",
    "d.change_param(\"rotate\", False)\n",
    "a.change_param(\"mode\", \"none\")\n",
    "d.change_param(\"mode\", \"none\")\n",
    "# a.temperature, a.temperature = [0] * 2\n",
    "gui = visual.GameWithConfidences(e, r, d, -1, show_confidences = True)"
   ]
  },
  {
   "cell_type": "code",
   "execution_count": null,
   "metadata": {
    "collapsed": true
   },
   "outputs": [],
   "source": [
    "state = np.array([\n",
    "    [0, 0, 0],\n",
    "    [0, 0, 0],\n",
    "    [0, 0, 0]\n",
    "])\n",
    "move = np.array([\n",
    "    [0, 0, 0],\n",
    "    [0, 1, 0],\n",
    "    [0, 0, 0]\n",
    "])\n",
    "a.mop = False\n",
    "print(d.target(state, move, 2) - a.get_Q(state))"
   ]
  },
  {
   "cell_type": "code",
   "execution_count": null,
   "metadata": {
    "collapsed": true
   },
   "outputs": [],
   "source": [
    "a.trainer.online(state, move, 300)\n",
    "d.trainer.online(state, move, 300)"
   ]
  },
  {
   "cell_type": "code",
   "execution_count": null,
   "metadata": {
    "collapsed": true
   },
   "outputs": [],
   "source": [
    "print(a.get_Q(state))\n",
    "print(d.get_Q(state))"
   ]
  },
  {
   "cell_type": "code",
   "execution_count": null,
   "metadata": {
    "collapsed": true
   },
   "outputs": [],
   "source": [
    "a.clear()\n",
    "d.clear()"
   ]
  },
  {
   "cell_type": "code",
   "execution_count": null,
   "metadata": {},
   "outputs": [],
   "source": [
    "state = np.zeros([4,4])\n",
    "qs = d.get_Q(state)\n",
    "probs = d.softmax(np.reshape(qs, -1) / (d.temperature + .0001))\n",
    "action = np.zeros(state.size)\n",
    "if np.isnan(probs).any():\n",
    "    action[np.argmax(qs)] = 1\n",
    "else:\n",
    "    print(probs)\n",
    "    action[np.random.choice(state.size, p = probs)] = 1\n",
    "print(np.reshape(action, state.shape))"
   ]
  }
 ],
 "metadata": {
  "kernelspec": {
   "display_name": "Python 3",
   "language": "python",
   "name": "python3"
  },
  "language_info": {
   "codemirror_mode": {
    "name": "ipython",
    "version": 3
   },
   "file_extension": ".py",
   "mimetype": "text/x-python",
   "name": "python",
   "nbconvert_exporter": "python",
   "pygments_lexer": "ipython3",
   "version": "3.6.1"
  }
 },
 "nbformat": 4,
 "nbformat_minor": 1
}
