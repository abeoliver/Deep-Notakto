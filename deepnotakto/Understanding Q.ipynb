{
 "cells": [
  {
   "cell_type": "code",
   "execution_count": 1,
   "metadata": {
    "collapsed": true
   },
   "outputs": [],
   "source": [
    "# Dependencies\n",
    "import random, sys\n",
    "import numpy as np\n",
    "from importlib import reload\n",
    "from copy import copy\n",
    "\n",
    "# Deepnotakto Project\n",
    "sys.path.insert(0, '..')\n",
    "import util, visual, trainer, train, agents.agent\n",
    "import environment as env\n",
    "import agents.random_agent as rp\n",
    "import agents.Q as Q\n",
    "import agents.human as human\n",
    "import agents.activated as activated"
   ]
  },
  {
   "cell_type": "code",
   "execution_count": null,
   "metadata": {
    "collapsed": true,
    "scrolled": true
   },
   "outputs": [],
   "source": [
    "_ = reload(env)\n",
    "_ = reload(agents.agent)\n",
    "_ = reload(Q)\n",
    "_ = reload(visual)\n",
    "_ = reload(activated)\n",
    "_ = reload(util)\n",
    "_ = reload(trainer)\n",
    "_ = reload(train)"
   ]
  },
  {
   "cell_type": "code",
   "execution_count": 15,
   "metadata": {},
   "outputs": [],
   "source": [
    "e = env.Env(4)\n",
    "params ={\"mode\": \"replay\", \"learn_rate\": .01, \"rotate\": True,\n",
    "         \"epsilon_func\": lambda x: max(0, min(1, 2200 * ((x + 1) ** -1.4) - .1)),\n",
    "         \"epochs\": 1, \"batch_size\": 1, \"replay_size\": 25}\n",
    "a = Q.Q([16, 100, 16], gamma = .2, training = params, name = \"a\")\n",
    "# a = util.load_agent(\"agents/saves/a.npz\", Q.Q)\n",
    "# d = Q.Q([9, 20, 9], gamma = .2, training = params, name = \"d\")\n",
    "# d = util.load_agent(\"agents/saves/d.npz\", Q.Q)\n",
    "h = human.Human()\n",
    "r = rp.RandomAgent(e)"
   ]
  },
  {
   "cell_type": "code",
   "execution_count": null,
   "metadata": {},
   "outputs": [
    {
     "name": "stdout",
     "output_type": "stream",
     "text": [
      "Traning Agents 'Random' vs 'a'\n"
     ]
    }
   ],
   "source": [
    "a.mop = False\n",
    "# d.mop = False\n",
    "a.change_param(\"rotate\", True)\n",
    "train.train_agent(e, r, a, 1, 100, save_a1 = False, save_a2 = True, path = \"agents/saves/\", constant = True)"
   ]
  },
  {
   "cell_type": "code",
   "execution_count": 10,
   "metadata": {},
   "outputs": [
    {
     "ename": "SystemExit",
     "evalue": "",
     "output_type": "error",
     "traceback": [
      "An exception has occurred, use %tb to see the full traceback.\n",
      "\u001b[1;31mSystemExit\u001b[0m\n"
     ]
    },
    {
     "name": "stderr",
     "output_type": "stream",
     "text": [
      "C:\\Users\\abeol\\Anaconda3\\envs\\Deep-Notakto\\lib\\site-packages\\IPython\\core\\interactiveshell.py:2870: UserWarning: To exit: use 'exit', 'quit', or Ctrl-D.\n",
      "  warn(\"To exit: use 'exit', 'quit', or Ctrl-D.\", stacklevel=1)\n"
     ]
    }
   ],
   "source": [
    "a.mop = False\n",
    "# d.mop = False\n",
    "a.change_param(\"rotate\", False)\n",
    "# d.change_param(\"rotate\", False)\n",
    "#train.train_agent(e, a, d, 1, 1, constant = False)\n",
    "gui = visual.GameWithConfidences(e, r, a, -1, show_confidences = True)"
   ]
  },
  {
   "cell_type": "code",
   "execution_count": null,
   "metadata": {
    "collapsed": true,
    "scrolled": false
   },
   "outputs": [],
   "source": [
    "state = np.array([\n",
    "    [0, 0, 0],\n",
    "    [0, 0, 0],\n",
    "    [0, 0, 0]\n",
    "])\n",
    "move = np.array([\n",
    "    [0, 0, 0],\n",
    "    [0, 1, 0],\n",
    "    [0, 0, 0]\n",
    "])\n",
    "a.mop = False\n",
    "#print(a.target(state, move, 2) - a.get_Q(state))"
   ]
  },
  {
   "cell_type": "code",
   "execution_count": null,
   "metadata": {
    "collapsed": true
   },
   "outputs": [],
   "source": [
    "a.trainer.online(state, move, 300)\n",
    "d.trainer.online(state, move, 300)"
   ]
  },
  {
   "cell_type": "code",
   "execution_count": null,
   "metadata": {},
   "outputs": [],
   "source": [
    "print(a.get_Q(state))\n",
    "print(d.get_Q(state))"
   ]
  },
  {
   "cell_type": "code",
   "execution_count": null,
   "metadata": {
    "collapsed": true
   },
   "outputs": [],
   "source": [
    "a.clear()\n",
    "d.clear()"
   ]
  }
 ],
 "metadata": {
  "kernelspec": {
   "display_name": "Python 3",
   "language": "python",
   "name": "python3"
  },
  "language_info": {
   "codemirror_mode": {
    "name": "ipython",
    "version": 3
   },
   "file_extension": ".py",
   "mimetype": "text/x-python",
   "name": "python",
   "nbconvert_exporter": "python",
   "pygments_lexer": "ipython3",
   "version": "3.6.1"
  }
 },
 "nbformat": 4,
 "nbformat_minor": 1
}
